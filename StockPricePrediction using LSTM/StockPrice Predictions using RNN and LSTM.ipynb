{
 "cells": [
  {
   "cell_type": "code",
   "execution_count": 3,
   "id": "040a1b9e",
   "metadata": {},
   "outputs": [
    {
     "name": "stdout",
     "output_type": "stream",
     "text": [
      "WARNING:tensorflow:From C:\\Users\\HP\\anaconda3\\Lib\\site-packages\\keras\\src\\losses.py:2976: The name tf.losses.sparse_softmax_cross_entropy is deprecated. Please use tf.compat.v1.losses.sparse_softmax_cross_entropy instead.\n",
      "\n"
     ]
    }
   ],
   "source": [
    "import tensorflow as tf"
   ]
  },
  {
   "cell_type": "code",
   "execution_count": 4,
   "id": "b9854864",
   "metadata": {},
   "outputs": [
    {
     "name": "stdout",
     "output_type": "stream",
     "text": [
      "2.15.0\n"
     ]
    }
   ],
   "source": [
    "print(tf.__version__)"
   ]
  },
  {
   "cell_type": "code",
   "execution_count": 5,
   "id": "c92be425",
   "metadata": {},
   "outputs": [],
   "source": [
    "import numpy as np\n",
    "import pandas as pd\n",
    "import matplotlib.pyplot as plt"
   ]
  },
  {
   "cell_type": "markdown",
   "id": "6b8bfed5",
   "metadata": {},
   "source": [
    "# Data Preprocessing"
   ]
  },
  {
   "cell_type": "code",
   "execution_count": 9,
   "id": "5bb02a54",
   "metadata": {},
   "outputs": [],
   "source": [
    "#importing the dataset\n",
    "training_data=pd.read_csv('training_set_google.csv')"
   ]
  },
  {
   "cell_type": "code",
   "execution_count": 10,
   "id": "fe2a6327",
   "metadata": {},
   "outputs": [
    {
     "data": {
      "text/html": [
       "<div>\n",
       "<style scoped>\n",
       "    .dataframe tbody tr th:only-of-type {\n",
       "        vertical-align: middle;\n",
       "    }\n",
       "\n",
       "    .dataframe tbody tr th {\n",
       "        vertical-align: top;\n",
       "    }\n",
       "\n",
       "    .dataframe thead th {\n",
       "        text-align: right;\n",
       "    }\n",
       "</style>\n",
       "<table border=\"1\" class=\"dataframe\">\n",
       "  <thead>\n",
       "    <tr style=\"text-align: right;\">\n",
       "      <th></th>\n",
       "      <th>Date</th>\n",
       "      <th>Open</th>\n",
       "      <th>High</th>\n",
       "      <th>Low</th>\n",
       "      <th>Close</th>\n",
       "      <th>Adj Close</th>\n",
       "      <th>Volume</th>\n",
       "    </tr>\n",
       "  </thead>\n",
       "  <tbody>\n",
       "    <tr>\n",
       "      <th>0</th>\n",
       "      <td>2014-02-12</td>\n",
       "      <td>29.613998</td>\n",
       "      <td>29.638906</td>\n",
       "      <td>29.424212</td>\n",
       "      <td>29.556465</td>\n",
       "      <td>29.556465</td>\n",
       "      <td>69238554</td>\n",
       "    </tr>\n",
       "    <tr>\n",
       "      <th>1</th>\n",
       "      <td>2014-02-13</td>\n",
       "      <td>29.408520</td>\n",
       "      <td>29.885483</td>\n",
       "      <td>29.381371</td>\n",
       "      <td>29.885483</td>\n",
       "      <td>29.885483</td>\n",
       "      <td>73731331</td>\n",
       "    </tr>\n",
       "    <tr>\n",
       "      <th>2</th>\n",
       "      <td>2014-02-14</td>\n",
       "      <td>29.778631</td>\n",
       "      <td>29.997313</td>\n",
       "      <td>29.708645</td>\n",
       "      <td>29.957710</td>\n",
       "      <td>29.957710</td>\n",
       "      <td>87795852</td>\n",
       "    </tr>\n",
       "    <tr>\n",
       "      <th>3</th>\n",
       "      <td>2014-02-18</td>\n",
       "      <td>29.923092</td>\n",
       "      <td>30.208521</td>\n",
       "      <td>29.887974</td>\n",
       "      <td>30.158957</td>\n",
       "      <td>30.158957</td>\n",
       "      <td>84672187</td>\n",
       "    </tr>\n",
       "    <tr>\n",
       "      <th>4</th>\n",
       "      <td>2014-02-19</td>\n",
       "      <td>30.019978</td>\n",
       "      <td>30.117613</td>\n",
       "      <td>29.825706</td>\n",
       "      <td>29.946255</td>\n",
       "      <td>29.946255</td>\n",
       "      <td>84459392</td>\n",
       "    </tr>\n",
       "  </tbody>\n",
       "</table>\n",
       "</div>"
      ],
      "text/plain": [
       "         Date       Open       High        Low      Close  Adj Close    Volume\n",
       "0  2014-02-12  29.613998  29.638906  29.424212  29.556465  29.556465  69238554\n",
       "1  2014-02-13  29.408520  29.885483  29.381371  29.885483  29.885483  73731331\n",
       "2  2014-02-14  29.778631  29.997313  29.708645  29.957710  29.957710  87795852\n",
       "3  2014-02-18  29.923092  30.208521  29.887974  30.158957  30.158957  84672187\n",
       "4  2014-02-19  30.019978  30.117613  29.825706  29.946255  29.946255  84459392"
      ]
     },
     "execution_count": 10,
     "metadata": {},
     "output_type": "execute_result"
    }
   ],
   "source": [
    "training_data.head()"
   ]
  },
  {
   "cell_type": "code",
   "execution_count": 11,
   "id": "3aeb9d2d",
   "metadata": {},
   "outputs": [
    {
     "data": {
      "text/html": [
       "<div>\n",
       "<style scoped>\n",
       "    .dataframe tbody tr th:only-of-type {\n",
       "        vertical-align: middle;\n",
       "    }\n",
       "\n",
       "    .dataframe tbody tr th {\n",
       "        vertical-align: top;\n",
       "    }\n",
       "\n",
       "    .dataframe thead th {\n",
       "        text-align: right;\n",
       "    }\n",
       "</style>\n",
       "<table border=\"1\" class=\"dataframe\">\n",
       "  <thead>\n",
       "    <tr style=\"text-align: right;\">\n",
       "      <th></th>\n",
       "      <th>Date</th>\n",
       "      <th>Open</th>\n",
       "      <th>High</th>\n",
       "      <th>Low</th>\n",
       "      <th>Close</th>\n",
       "      <th>Adj Close</th>\n",
       "      <th>Volume</th>\n",
       "    </tr>\n",
       "  </thead>\n",
       "  <tbody>\n",
       "    <tr>\n",
       "      <th>2462</th>\n",
       "      <td>2023-11-22</td>\n",
       "      <td>139.100006</td>\n",
       "      <td>141.100006</td>\n",
       "      <td>139.000000</td>\n",
       "      <td>140.020004</td>\n",
       "      <td>140.020004</td>\n",
       "      <td>17306400</td>\n",
       "    </tr>\n",
       "    <tr>\n",
       "      <th>2463</th>\n",
       "      <td>2023-11-24</td>\n",
       "      <td>139.539993</td>\n",
       "      <td>139.677002</td>\n",
       "      <td>137.470001</td>\n",
       "      <td>138.220001</td>\n",
       "      <td>138.220001</td>\n",
       "      <td>8828600</td>\n",
       "    </tr>\n",
       "    <tr>\n",
       "      <th>2464</th>\n",
       "      <td>2023-11-27</td>\n",
       "      <td>137.570007</td>\n",
       "      <td>139.630005</td>\n",
       "      <td>137.539993</td>\n",
       "      <td>138.050003</td>\n",
       "      <td>138.050003</td>\n",
       "      <td>17886400</td>\n",
       "    </tr>\n",
       "    <tr>\n",
       "      <th>2465</th>\n",
       "      <td>2023-11-28</td>\n",
       "      <td>137.630005</td>\n",
       "      <td>138.660004</td>\n",
       "      <td>137.039993</td>\n",
       "      <td>138.619995</td>\n",
       "      <td>138.619995</td>\n",
       "      <td>17046900</td>\n",
       "    </tr>\n",
       "    <tr>\n",
       "      <th>2466</th>\n",
       "      <td>2023-11-29</td>\n",
       "      <td>138.985001</td>\n",
       "      <td>139.669998</td>\n",
       "      <td>136.294998</td>\n",
       "      <td>136.399994</td>\n",
       "      <td>136.399994</td>\n",
       "      <td>20994400</td>\n",
       "    </tr>\n",
       "  </tbody>\n",
       "</table>\n",
       "</div>"
      ],
      "text/plain": [
       "            Date        Open        High         Low       Close   Adj Close  \\\n",
       "2462  2023-11-22  139.100006  141.100006  139.000000  140.020004  140.020004   \n",
       "2463  2023-11-24  139.539993  139.677002  137.470001  138.220001  138.220001   \n",
       "2464  2023-11-27  137.570007  139.630005  137.539993  138.050003  138.050003   \n",
       "2465  2023-11-28  137.630005  138.660004  137.039993  138.619995  138.619995   \n",
       "2466  2023-11-29  138.985001  139.669998  136.294998  136.399994  136.399994   \n",
       "\n",
       "        Volume  \n",
       "2462  17306400  \n",
       "2463   8828600  \n",
       "2464  17886400  \n",
       "2465  17046900  \n",
       "2466  20994400  "
      ]
     },
     "execution_count": 11,
     "metadata": {},
     "output_type": "execute_result"
    }
   ],
   "source": [
    "training_data.tail()"
   ]
  },
  {
   "cell_type": "code",
   "execution_count": 12,
   "id": "b014604a",
   "metadata": {},
   "outputs": [
    {
     "name": "stdout",
     "output_type": "stream",
     "text": [
      "<class 'pandas.core.frame.DataFrame'>\n",
      "RangeIndex: 2467 entries, 0 to 2466\n",
      "Data columns (total 7 columns):\n",
      " #   Column     Non-Null Count  Dtype  \n",
      "---  ------     --------------  -----  \n",
      " 0   Date       2467 non-null   object \n",
      " 1   Open       2467 non-null   float64\n",
      " 2   High       2467 non-null   float64\n",
      " 3   Low        2467 non-null   float64\n",
      " 4   Close      2467 non-null   float64\n",
      " 5   Adj Close  2467 non-null   float64\n",
      " 6   Volume     2467 non-null   int64  \n",
      "dtypes: float64(5), int64(1), object(1)\n",
      "memory usage: 135.0+ KB\n"
     ]
    }
   ],
   "source": [
    "training_data.info()"
   ]
  },
  {
   "cell_type": "code",
   "execution_count": 15,
   "id": "d48d905c",
   "metadata": {},
   "outputs": [],
   "source": [
    "training_set=training_data.iloc[:,1:2].values\n",
    "#here we have selected the first column so indexed 1, and upper bound is excluded, so we made an array and we convereted it to\n",
    "# numpy array by .values"
   ]
  },
  {
   "cell_type": "code",
   "execution_count": 18,
   "id": "c4704e66",
   "metadata": {},
   "outputs": [
    {
     "data": {
      "text/plain": [
       "((2467, 1), (2467, 7))"
      ]
     },
     "execution_count": 18,
     "metadata": {},
     "output_type": "execute_result"
    }
   ],
   "source": [
    "training_set.shape, training_data.shape\n",
    "# we have selected only 1 column"
   ]
  },
  {
   "cell_type": "code",
   "execution_count": 20,
   "id": "389cf33d",
   "metadata": {},
   "outputs": [],
   "source": [
    "# feature scaling , by normalisation as in RNN we do that\n",
    "from sklearn.preprocessing import MinMaxScaler\n",
    "sc=MinMaxScaler(feature_range=(0,1)) # instance of the class is created \n",
    "training_set_scaled=sc.fit_transform(training_set)"
   ]
  },
  {
   "cell_type": "code",
   "execution_count": 21,
   "id": "bf7de770",
   "metadata": {},
   "outputs": [
    {
     "data": {
      "text/plain": [
       "array([[0.03890932],\n",
       "       [0.03729391],\n",
       "       [0.04020361],\n",
       "       ...,\n",
       "       [0.88762867],\n",
       "       [0.88810036],\n",
       "       [0.89875295]])"
      ]
     },
     "execution_count": 21,
     "metadata": {},
     "output_type": "execute_result"
    }
   ],
   "source": [
    "training_set_scaled"
   ]
  },
  {
   "cell_type": "code",
   "execution_count": 29,
   "id": "2bfae162",
   "metadata": {},
   "outputs": [],
   "source": [
    "# creating a DATA STRUCTURE with 60 timesteps and 1 output\n",
    "# on 60 training data we train RNN and we get 1 output\n",
    "x_train=[]\n",
    "y_train=[]\n",
    "\n",
    "#RNN network is going to predict an output from 60 stock prices, here it would learn and understand the relations\n",
    "\n",
    "for i in range(60,2467):\n",
    "    x_train.append(training_set_scaled[i-60:i,0]) # 0 is the column indexed\n",
    "    y_train.append(training_set_scaled[i,0])\n",
    "    \n",
    "# these would be lists, now we would convert it into numpy arrays\n",
    "x_train, y_train=np.array(x_train), np.array(y_train)"
   ]
  },
  {
   "cell_type": "code",
   "execution_count": 30,
   "id": "b2e3b8bd",
   "metadata": {},
   "outputs": [
    {
     "data": {
      "text/plain": [
       "array([[0.03890932, 0.03729391, 0.04020361, ..., 0.01198764, 0.00828708,\n",
       "        0.00541365],\n",
       "       [0.03729391, 0.04020361, 0.04133933, ..., 0.00828708, 0.00541365,\n",
       "        0.00631135],\n",
       "       [0.04020361, 0.04133933, 0.04210102, ..., 0.00541365, 0.00631135,\n",
       "        0.01131339],\n",
       "       ...,\n",
       "       [0.88354055, 0.89438964, 0.8787449 , ..., 0.89053747, 0.89965709,\n",
       "        0.90311614],\n",
       "       [0.89438964, 0.8787449 , 0.88326536, ..., 0.89965709, 0.90311614,\n",
       "        0.88762867],\n",
       "       [0.8787449 , 0.88326536, 0.86427937, ..., 0.90311614, 0.88762867,\n",
       "        0.88810036]])"
      ]
     },
     "execution_count": 30,
     "metadata": {},
     "output_type": "execute_result"
    }
   ],
   "source": [
    "x_train\n",
    "# each observation has 60 values"
   ]
  },
  {
   "cell_type": "code",
   "execution_count": 32,
   "id": "ca54e803",
   "metadata": {},
   "outputs": [
    {
     "data": {
      "text/plain": [
       "array([0.00631135, 0.01131339, 0.01420643, ..., 0.88762867, 0.88810036,\n",
       "       0.89875295])"
      ]
     },
     "execution_count": 32,
     "metadata": {},
     "output_type": "execute_result"
    }
   ],
   "source": [
    "y_train\n",
    "# each observation has only 1 value"
   ]
  },
  {
   "cell_type": "code",
   "execution_count": 33,
   "id": "40cb150c",
   "metadata": {},
   "outputs": [
    {
     "data": {
      "text/plain": [
       "(2407, 60)"
      ]
     },
     "execution_count": 33,
     "metadata": {},
     "output_type": "execute_result"
    }
   ],
   "source": [
    "x_train.shape"
   ]
  },
  {
   "cell_type": "code",
   "execution_count": 34,
   "id": "ed5371c5",
   "metadata": {},
   "outputs": [
    {
     "data": {
      "text/plain": [
       "(2407,)"
      ]
     },
     "execution_count": 34,
     "metadata": {},
     "output_type": "execute_result"
    }
   ],
   "source": [
    "y_train.shape"
   ]
  },
  {
   "cell_type": "code",
   "execution_count": 36,
   "id": "9d56cde2",
   "metadata": {},
   "outputs": [],
   "source": [
    "# with x_train and y_train our model will learn correlations\n",
    "# reshaping the dataset, as RNN would take data in 3 dimenstions\n",
    "x_train=x_train.reshape(2407,60,1) # 2407 is total observations, 60 is total number of columns, 1 is predictor"
   ]
  },
  {
   "cell_type": "code",
   "execution_count": 37,
   "id": "61938497",
   "metadata": {},
   "outputs": [
    {
     "data": {
      "text/plain": [
       "(2407, 60, 1)"
      ]
     },
     "execution_count": 37,
     "metadata": {},
     "output_type": "execute_result"
    }
   ],
   "source": [
    "x_train.shape"
   ]
  },
  {
   "cell_type": "markdown",
   "id": "f203d690",
   "metadata": {},
   "source": [
    "# Building LSTM"
   ]
  },
  {
   "cell_type": "code",
   "execution_count": 39,
   "id": "7a116794",
   "metadata": {},
   "outputs": [
    {
     "name": "stdout",
     "output_type": "stream",
     "text": [
      "WARNING:tensorflow:From C:\\Users\\HP\\anaconda3\\Lib\\site-packages\\keras\\src\\backend.py:873: The name tf.get_default_graph is deprecated. Please use tf.compat.v1.get_default_graph instead.\n",
      "\n"
     ]
    }
   ],
   "source": [
    "# defining an object (initializing RNN)\n",
    "model=tf.keras.models.Sequential() #defining model of the class sequential"
   ]
  },
  {
   "cell_type": "code",
   "execution_count": 45,
   "id": "a46b0543",
   "metadata": {},
   "outputs": [],
   "source": [
    "# first LSTM layers\n",
    "model.add(tf.keras.layers.LSTM(units=60,activation='relu',return_sequences=True, input_shape=(60,1))) #input shape is only done at the first layer\n",
    "# return-sequences is true as its the first layer, if it would have been the last layer then we wouldn' t have done so\n",
    "# dropout layer\n",
    "model.add(tf.keras.layers.Dropout(0.2)) # a regularisation term\n",
    "\n",
    "# second LSTM layers\n",
    "model.add(tf.keras.layers.LSTM(units=60,activation='relu',return_sequences=True))\n",
    "# return-sequences is true as its the first layer, if it would have been the last layer then we wouldn' t have done so\n",
    "# dropout layer\n",
    "model.add(tf.keras.layers.Dropout(0.2)) # a regularisation term\n",
    "\n",
    "# third LSTM layers\n",
    "model.add(tf.keras.layers.LSTM(units=80,activation='relu',return_sequences=True))\n",
    "# return-sequences is true as its the first layer, if it would have been the last layer then we wouldn' t have done so\n",
    "# dropout layer\n",
    "model.add(tf.keras.layers.Dropout(0.2)) # a regularisation term\n",
    "\n",
    "# fourth LSTM layers\n",
    "model.add(tf.keras.layers.LSTM(units=120,activation='relu')) #return sequences is deleted, as after that we would be adding a dense layer\n",
    "# return-sequences is true as its the first layer, if it would have been the last layer then we wouldn' t have done so\n",
    "# dropout layer\n",
    "model.add(tf.keras.layers.Dropout(0.2)) # a regularisation term"
   ]
  },
  {
   "cell_type": "code",
   "execution_count": 47,
   "id": "fddb6a0c",
   "metadata": {},
   "outputs": [],
   "source": [
    "#output layer\n",
    "model.add(tf.keras.layers.Dense(units=1)) #only 1 dimension would be there in output"
   ]
  },
  {
   "cell_type": "code",
   "execution_count": 49,
   "id": "b73e47b4",
   "metadata": {},
   "outputs": [
    {
     "name": "stdout",
     "output_type": "stream",
     "text": [
      "Model: \"sequential\"\n",
      "_________________________________________________________________\n",
      " Layer (type)                Output Shape              Param #   \n",
      "=================================================================\n",
      " lstm (LSTM)                 (None, 60, 60)            14880     \n",
      "                                                                 \n",
      " lstm_1 (LSTM)               (None, 60, 60)            29040     \n",
      "                                                                 \n",
      " lstm_2 (LSTM)               (None, 60, 60)            29040     \n",
      "                                                                 \n",
      " dropout (Dropout)           (None, 60, 60)            0         \n",
      "                                                                 \n",
      " lstm_3 (LSTM)               (None, 60, 60)            29040     \n",
      "                                                                 \n",
      " dropout_1 (Dropout)         (None, 60, 60)            0         \n",
      "                                                                 \n",
      " lstm_4 (LSTM)               (None, 60, 60)            29040     \n",
      "                                                                 \n",
      " dropout_2 (Dropout)         (None, 60, 60)            0         \n",
      "                                                                 \n",
      " lstm_5 (LSTM)               (None, 60, 60)            29040     \n",
      "                                                                 \n",
      " dropout_3 (Dropout)         (None, 60, 60)            0         \n",
      "                                                                 \n",
      " lstm_6 (LSTM)               (None, 60, 80)            45120     \n",
      "                                                                 \n",
      " dropout_4 (Dropout)         (None, 60, 80)            0         \n",
      "                                                                 \n",
      " lstm_7 (LSTM)               (None, 120)               96480     \n",
      "                                                                 \n",
      " dropout_5 (Dropout)         (None, 120)               0         \n",
      "                                                                 \n",
      " dense (Dense)               (None, 1)                 121       \n",
      "                                                                 \n",
      "=================================================================\n",
      "Total params: 301801 (1.15 MB)\n",
      "Trainable params: 301801 (1.15 MB)\n",
      "Non-trainable params: 0 (0.00 Byte)\n",
      "_________________________________________________________________\n"
     ]
    }
   ],
   "source": [
    "model.summary()"
   ]
  },
  {
   "cell_type": "code",
   "execution_count": 51,
   "id": "6aacc132",
   "metadata": {},
   "outputs": [
    {
     "name": "stdout",
     "output_type": "stream",
     "text": [
      "WARNING:tensorflow:From C:\\Users\\HP\\anaconda3\\Lib\\site-packages\\keras\\src\\optimizers\\__init__.py:309: The name tf.train.Optimizer is deprecated. Please use tf.compat.v1.train.Optimizer instead.\n",
      "\n"
     ]
    }
   ],
   "source": [
    "# now we have to compile the model and configure the process\n",
    "model.compile(optimizer='adam', loss ='mean_squared_error') #default is rmsprop (in RNN is recommended)\n",
    "# as its a regression problem hence we use MSE and not something like binary cross entropy"
   ]
  },
  {
   "cell_type": "markdown",
   "id": "4497f87e",
   "metadata": {},
   "source": [
    "# Training the model"
   ]
  },
  {
   "cell_type": "code",
   "execution_count": 55,
   "id": "9610f9d3",
   "metadata": {},
   "outputs": [
    {
     "name": "stdout",
     "output_type": "stream",
     "text": [
      "Epoch 1/100\n",
      "69/69 [==============================] - 20s 289ms/step - loss: 0.0012\n",
      "Epoch 2/100\n",
      "69/69 [==============================] - 20s 295ms/step - loss: 0.0012\n",
      "Epoch 3/100\n",
      "69/69 [==============================] - 21s 303ms/step - loss: 0.0012\n",
      "Epoch 4/100\n",
      "69/69 [==============================] - 20s 290ms/step - loss: 0.0012\n",
      "Epoch 5/100\n",
      "69/69 [==============================] - 20s 286ms/step - loss: 0.0012\n",
      "Epoch 6/100\n",
      "69/69 [==============================] - 20s 287ms/step - loss: 0.0011\n",
      "Epoch 7/100\n",
      "69/69 [==============================] - 20s 285ms/step - loss: 0.0011\n",
      "Epoch 8/100\n",
      "69/69 [==============================] - 21s 302ms/step - loss: 0.0011\n",
      "Epoch 9/100\n",
      "69/69 [==============================] - 21s 303ms/step - loss: 0.0012\n",
      "Epoch 10/100\n",
      "69/69 [==============================] - 20s 295ms/step - loss: 0.0012\n",
      "Epoch 11/100\n",
      "69/69 [==============================] - 20s 290ms/step - loss: 0.0012\n",
      "Epoch 12/100\n",
      "69/69 [==============================] - 19s 283ms/step - loss: 0.0012\n",
      "Epoch 13/100\n",
      "69/69 [==============================] - 20s 294ms/step - loss: 0.0012\n",
      "Epoch 14/100\n",
      "69/69 [==============================] - 22s 317ms/step - loss: 0.0012\n",
      "Epoch 15/100\n",
      "69/69 [==============================] - 21s 302ms/step - loss: 0.0012\n",
      "Epoch 16/100\n",
      "69/69 [==============================] - 20s 289ms/step - loss: 0.0011\n",
      "Epoch 17/100\n",
      "69/69 [==============================] - 20s 289ms/step - loss: 0.0011\n",
      "Epoch 18/100\n",
      "69/69 [==============================] - 20s 288ms/step - loss: 0.0012\n",
      "Epoch 19/100\n",
      "69/69 [==============================] - 20s 286ms/step - loss: 0.0012\n",
      "Epoch 20/100\n",
      "69/69 [==============================] - 20s 290ms/step - loss: 0.0012\n",
      "Epoch 21/100\n",
      "69/69 [==============================] - 20s 287ms/step - loss: 0.0012\n",
      "Epoch 22/100\n",
      "69/69 [==============================] - 20s 291ms/step - loss: 0.0016\n",
      "Epoch 23/100\n",
      "69/69 [==============================] - 20s 284ms/step - loss: 0.0014\n",
      "Epoch 24/100\n",
      "69/69 [==============================] - 20s 286ms/step - loss: 0.0012\n",
      "Epoch 25/100\n",
      "69/69 [==============================] - 21s 299ms/step - loss: 0.0013\n",
      "Epoch 26/100\n",
      "69/69 [==============================] - 20s 292ms/step - loss: 0.0012\n",
      "Epoch 27/100\n",
      "69/69 [==============================] - 20s 285ms/step - loss: 0.0011\n",
      "Epoch 28/100\n",
      "69/69 [==============================] - 20s 288ms/step - loss: 0.0011\n",
      "Epoch 29/100\n",
      "69/69 [==============================] - 20s 292ms/step - loss: 0.0011\n",
      "Epoch 30/100\n",
      "69/69 [==============================] - 20s 291ms/step - loss: 0.0012\n",
      "Epoch 31/100\n",
      "69/69 [==============================] - 20s 286ms/step - loss: 0.0012\n",
      "Epoch 32/100\n",
      "69/69 [==============================] - 20s 291ms/step - loss: 0.0012\n",
      "Epoch 33/100\n",
      "69/69 [==============================] - 20s 291ms/step - loss: 0.0011\n",
      "Epoch 34/100\n",
      "69/69 [==============================] - 20s 292ms/step - loss: 0.0011\n",
      "Epoch 35/100\n",
      "69/69 [==============================] - 20s 287ms/step - loss: 0.0011\n",
      "Epoch 36/100\n",
      "69/69 [==============================] - 20s 285ms/step - loss: 0.0011\n",
      "Epoch 37/100\n",
      "69/69 [==============================] - 20s 294ms/step - loss: 0.0011\n",
      "Epoch 38/100\n",
      "69/69 [==============================] - 21s 298ms/step - loss: 0.0011\n",
      "Epoch 39/100\n",
      "69/69 [==============================] - 20s 286ms/step - loss: 0.0012\n",
      "Epoch 40/100\n",
      "69/69 [==============================] - 20s 290ms/step - loss: 0.0011\n",
      "Epoch 41/100\n",
      "69/69 [==============================] - 20s 291ms/step - loss: 0.0012\n",
      "Epoch 42/100\n",
      "69/69 [==============================] - 20s 290ms/step - loss: 0.0012\n",
      "Epoch 43/100\n",
      "69/69 [==============================] - 20s 288ms/step - loss: 0.0011\n",
      "Epoch 44/100\n",
      "69/69 [==============================] - 19s 282ms/step - loss: 0.0010\n",
      "Epoch 45/100\n",
      "69/69 [==============================] - 19s 281ms/step - loss: 0.0011\n",
      "Epoch 46/100\n",
      "69/69 [==============================] - 20s 286ms/step - loss: 0.0011\n",
      "Epoch 47/100\n",
      "69/69 [==============================] - 19s 276ms/step - loss: 0.0011\n",
      "Epoch 48/100\n",
      "69/69 [==============================] - 19s 278ms/step - loss: 0.0011\n",
      "Epoch 49/100\n",
      "69/69 [==============================] - 19s 282ms/step - loss: 0.0011\n",
      "Epoch 50/100\n",
      "69/69 [==============================] - 19s 281ms/step - loss: 0.0011\n",
      "Epoch 51/100\n",
      "69/69 [==============================] - 19s 282ms/step - loss: 0.0011\n",
      "Epoch 52/100\n",
      "69/69 [==============================] - 19s 277ms/step - loss: 0.0011\n",
      "Epoch 53/100\n",
      "69/69 [==============================] - 19s 282ms/step - loss: 0.0011\n",
      "Epoch 54/100\n",
      "69/69 [==============================] - 21s 299ms/step - loss: 0.0012\n",
      "Epoch 55/100\n",
      "69/69 [==============================] - 20s 289ms/step - loss: 0.0011\n",
      "Epoch 56/100\n",
      "69/69 [==============================] - 20s 296ms/step - loss: 0.0011\n",
      "Epoch 57/100\n",
      "69/69 [==============================] - 20s 294ms/step - loss: 0.0011\n",
      "Epoch 58/100\n",
      "69/69 [==============================] - 20s 286ms/step - loss: 0.0011\n",
      "Epoch 59/100\n",
      "69/69 [==============================] - 21s 307ms/step - loss: 0.0012\n",
      "Epoch 60/100\n",
      "69/69 [==============================] - 20s 285ms/step - loss: 0.0011\n",
      "Epoch 61/100\n",
      "69/69 [==============================] - 20s 291ms/step - loss: 0.0010\n",
      "Epoch 62/100\n",
      "69/69 [==============================] - 20s 293ms/step - loss: 0.0011\n",
      "Epoch 63/100\n",
      "69/69 [==============================] - 20s 287ms/step - loss: 0.0011\n",
      "Epoch 64/100\n",
      "69/69 [==============================] - 20s 284ms/step - loss: 0.0011\n",
      "Epoch 65/100\n",
      "69/69 [==============================] - 20s 285ms/step - loss: 0.0011\n",
      "Epoch 66/100\n",
      "69/69 [==============================] - 23s 336ms/step - loss: 0.0010\n",
      "Epoch 67/100\n",
      "69/69 [==============================] - 24s 355ms/step - loss: 0.0011\n",
      "Epoch 68/100\n",
      "69/69 [==============================] - 35s 514ms/step - loss: 0.0011\n",
      "Epoch 69/100\n",
      "69/69 [==============================] - 41s 592ms/step - loss: 0.0011\n",
      "Epoch 70/100\n",
      "69/69 [==============================] - 42s 607ms/step - loss: 0.0011\n",
      "Epoch 71/100\n",
      "69/69 [==============================] - 42s 603ms/step - loss: 0.0010\n",
      "Epoch 72/100\n",
      "69/69 [==============================] - 44s 633ms/step - loss: 0.0011\n",
      "Epoch 73/100\n",
      "69/69 [==============================] - 41s 596ms/step - loss: 0.0010\n",
      "Epoch 74/100\n",
      "69/69 [==============================] - 41s 590ms/step - loss: 0.0010\n",
      "Epoch 75/100\n",
      "69/69 [==============================] - 42s 604ms/step - loss: 9.9220e-04\n",
      "Epoch 76/100\n",
      "69/69 [==============================] - 41s 597ms/step - loss: 0.0010\n",
      "Epoch 77/100\n",
      "69/69 [==============================] - 41s 599ms/step - loss: 9.9637e-04\n",
      "Epoch 78/100\n",
      "69/69 [==============================] - 45s 658ms/step - loss: 0.0010\n",
      "Epoch 79/100\n",
      "69/69 [==============================] - 44s 639ms/step - loss: 0.0011\n",
      "Epoch 80/100\n",
      "69/69 [==============================] - 42s 606ms/step - loss: 0.0010\n",
      "Epoch 81/100\n",
      "69/69 [==============================] - 48s 695ms/step - loss: 0.0011\n",
      "Epoch 82/100\n",
      "69/69 [==============================] - 47s 678ms/step - loss: 0.0010\n",
      "Epoch 83/100\n",
      "69/69 [==============================] - 47s 680ms/step - loss: 0.0011\n",
      "Epoch 84/100\n",
      "69/69 [==============================] - 51s 736ms/step - loss: 0.0010\n",
      "Epoch 85/100\n",
      "69/69 [==============================] - 53s 766ms/step - loss: 0.0010\n",
      "Epoch 86/100\n",
      "69/69 [==============================] - 46s 667ms/step - loss: 0.0010\n",
      "Epoch 87/100\n",
      "69/69 [==============================] - 45s 650ms/step - loss: 0.0011\n",
      "Epoch 88/100\n",
      "69/69 [==============================] - 43s 622ms/step - loss: 0.0011\n",
      "Epoch 89/100\n",
      "69/69 [==============================] - 43s 627ms/step - loss: 0.0011\n",
      "Epoch 90/100\n",
      "69/69 [==============================] - 41s 596ms/step - loss: 0.0011\n",
      "Epoch 91/100\n",
      "69/69 [==============================] - 41s 597ms/step - loss: 0.0011\n",
      "Epoch 92/100\n",
      "69/69 [==============================] - 42s 605ms/step - loss: 0.0010\n",
      "Epoch 93/100\n",
      "69/69 [==============================] - 42s 604ms/step - loss: 0.0010\n",
      "Epoch 94/100\n",
      "69/69 [==============================] - 42s 606ms/step - loss: 0.0010\n",
      "Epoch 95/100\n",
      "69/69 [==============================] - 42s 603ms/step - loss: 9.4591e-04\n",
      "Epoch 96/100\n",
      "69/69 [==============================] - 41s 599ms/step - loss: 0.0011\n",
      "Epoch 97/100\n",
      "69/69 [==============================] - 41s 594ms/step - loss: 0.0010\n",
      "Epoch 98/100\n",
      "69/69 [==============================] - 41s 600ms/step - loss: 0.0011\n",
      "Epoch 99/100\n",
      "69/69 [==============================] - 41s 591ms/step - loss: 0.0010\n",
      "Epoch 100/100\n",
      "69/69 [==============================] - 41s 597ms/step - loss: 0.0011\n"
     ]
    },
    {
     "data": {
      "text/plain": [
       "<keras.src.callbacks.History at 0x206b9ed1910>"
      ]
     },
     "execution_count": 55,
     "metadata": {},
     "output_type": "execute_result"
    }
   ],
   "source": [
    "model.fit(x_train,y_train,batch_size=35, epochs=100) #epochs is 1 complete cycle, forward propagation for calculating \n",
    "#and backward propagation for updating the weights"
   ]
  },
  {
   "cell_type": "markdown",
   "id": "5592f911",
   "metadata": {},
   "source": [
    "# Making Predictions"
   ]
  },
  {
   "cell_type": "code",
   "execution_count": 56,
   "id": "63e4fce8",
   "metadata": {},
   "outputs": [],
   "source": [
    "test_data=pd.read_csv('testing_set_google.csv')"
   ]
  },
  {
   "cell_type": "code",
   "execution_count": 57,
   "id": "d3e67167",
   "metadata": {},
   "outputs": [
    {
     "data": {
      "text/plain": [
       "(451, 7)"
      ]
     },
     "execution_count": 57,
     "metadata": {},
     "output_type": "execute_result"
    }
   ],
   "source": [
    "test_data.shape"
   ]
  },
  {
   "cell_type": "code",
   "execution_count": 58,
   "id": "bbcf2a96",
   "metadata": {},
   "outputs": [
    {
     "name": "stdout",
     "output_type": "stream",
     "text": [
      "<class 'pandas.core.frame.DataFrame'>\n",
      "RangeIndex: 451 entries, 0 to 450\n",
      "Data columns (total 7 columns):\n",
      " #   Column     Non-Null Count  Dtype  \n",
      "---  ------     --------------  -----  \n",
      " 0   Date       451 non-null    object \n",
      " 1   Open       451 non-null    float64\n",
      " 2   High       451 non-null    float64\n",
      " 3   Low        451 non-null    float64\n",
      " 4   Close      451 non-null    float64\n",
      " 5   Adj Close  451 non-null    float64\n",
      " 6   Volume     451 non-null    int64  \n",
      "dtypes: float64(5), int64(1), object(1)\n",
      "memory usage: 24.8+ KB\n"
     ]
    }
   ],
   "source": [
    "test_data.info()"
   ]
  },
  {
   "cell_type": "code",
   "execution_count": 59,
   "id": "e6e7be66",
   "metadata": {},
   "outputs": [],
   "source": [
    "real_stock_price=test_data.iloc[:,1:2].values"
   ]
  },
  {
   "cell_type": "code",
   "execution_count": 61,
   "id": "542f50f9",
   "metadata": {},
   "outputs": [
    {
     "data": {
      "text/plain": [
       "(451, 1)"
      ]
     },
     "execution_count": 61,
     "metadata": {},
     "output_type": "execute_result"
    }
   ],
   "source": [
    "real_stock_price.shape"
   ]
  },
  {
   "cell_type": "code",
   "execution_count": 87,
   "id": "8070d069",
   "metadata": {},
   "outputs": [
    {
     "name": "stdout",
     "output_type": "stream",
     "text": [
      "15/15 [==============================] - 2s 124ms/step\n"
     ]
    }
   ],
   "source": [
    "# getting predicted stock prices\n",
    "\n",
    "# concatination\n",
    "dataset_total=pd.concat((training_data['Open'], test_data['Open']), axis=0) #on the basis of Row, so we did axis=0\n",
    "# while predicting we use training data and not the scaled one after transformation\n",
    "\n",
    "# stock prices of previous 60 days for each day\n",
    "\n",
    "inputs= dataset_total[len(dataset_total)-len(test_data)-60: ].values #prev 60 days\n",
    "\n",
    "# reshaping (convert into numpy array)\n",
    "inputs = inputs.reshape(-1,1)\n",
    "\n",
    "# now feature scalling\n",
    "inputs = sc.transform(inputs)\n",
    "\n",
    "x_test=[] \n",
    "# this empty list would be apended\n",
    "\n",
    "# creating a test set\n",
    "for i in range (60,511):\n",
    "    x_test.append(inputs[i-60:i, 0])\n",
    "\n",
    "#convert into numpy array\n",
    "x_test=np.array(x_test)\n",
    "\n",
    "#now convert it into 3d\n",
    "x_test=np.reshape(x_test,(x_test.shape[0], x_test.shape[1],1)) # 1 is the extra dimension we are adding\n",
    "\n",
    "# getting predicted stock prices\n",
    "predicted_stock_prices=model.predict(x_test)\n",
    "predicted_stock_price=sc.inverse_transform(predicted_stock_prices) # as we had applied transformation, so we did reverse transformation\n",
    "    "
   ]
  },
  {
   "cell_type": "code",
   "execution_count": 88,
   "id": "9178cdfc",
   "metadata": {},
   "outputs": [
    {
     "name": "stdout",
     "output_type": "stream",
     "text": [
      "[[131.36566 ]\n",
      " [130.71103 ]\n",
      " [130.05522 ]\n",
      " [129.71284 ]\n",
      " [129.59105 ]\n",
      " [129.1296  ]\n",
      " [128.06923 ]\n",
      " [126.935844]\n",
      " [125.451324]\n",
      " [124.39344 ]\n",
      " [124.69858 ]\n",
      " [125.7914  ]\n",
      " [126.892395]\n",
      " [128.00461 ]\n",
      " [128.87155 ]\n",
      " [129.49533 ]\n",
      " [129.41614 ]\n",
      " [129.0288  ]\n",
      " [128.68742 ]\n",
      " [129.20201 ]\n",
      " [129.57431 ]\n",
      " [129.01048 ]\n",
      " [128.41264 ]\n",
      " [128.56728 ]\n",
      " [129.4469  ]\n",
      " [130.71803 ]\n",
      " [131.8871  ]\n",
      " [133.0948  ]\n",
      " [134.2824  ]\n",
      " [135.47871 ]\n",
      " [136.33563 ]\n",
      " [136.91553 ]\n",
      " [137.2259  ]\n",
      " [137.16637 ]\n",
      " [136.51012 ]\n",
      " [135.46773 ]\n",
      " [134.67078 ]\n",
      " [134.10359 ]\n",
      " [132.92245 ]\n",
      " [131.37093 ]\n",
      " [129.65007 ]\n",
      " [127.92226 ]\n",
      " [126.05787 ]\n",
      " [124.1746  ]\n",
      " [122.35706 ]\n",
      " [120.83246 ]\n",
      " [120.18794 ]\n",
      " [119.92149 ]\n",
      " [119.09346 ]\n",
      " [117.36693 ]\n",
      " [115.46564 ]\n",
      " [113.5407  ]\n",
      " [111.64482 ]\n",
      " [109.750404]\n",
      " [107.86004 ]\n",
      " [106.429436]\n",
      " [105.921844]\n",
      " [106.313736]\n",
      " [106.70063 ]\n",
      " [106.41639 ]\n",
      " [105.81145 ]\n",
      " [105.17643 ]\n",
      " [104.578804]\n",
      " [104.22336 ]\n",
      " [104.30007 ]\n",
      " [104.884674]\n",
      " [105.592545]\n",
      " [105.71908 ]\n",
      " [105.31122 ]\n",
      " [104.703995]\n",
      " [103.892784]\n",
      " [102.88399 ]\n",
      " [101.49533 ]\n",
      " [ 99.95954 ]\n",
      " [ 99.07928 ]\n",
      " [100.11328 ]\n",
      " [102.266464]\n",
      " [104.70966 ]\n",
      " [106.19267 ]\n",
      " [106.46493 ]\n",
      " [106.56952 ]\n",
      " [106.97324 ]\n",
      " [107.242645]\n",
      " [107.11328 ]\n",
      " [106.538   ]\n",
      " [105.66624 ]\n",
      " [104.52744 ]\n",
      " [103.13192 ]\n",
      " [101.70823 ]\n",
      " [100.98468 ]\n",
      " [101.61341 ]\n",
      " [102.858284]\n",
      " [105.16863 ]\n",
      " [107.414894]\n",
      " [107.51585 ]\n",
      " [107.05671 ]\n",
      " [106.53041 ]\n",
      " [105.93474 ]\n",
      " [105.21252 ]\n",
      " [104.73597 ]\n",
      " [105.829865]\n",
      " [107.79994 ]\n",
      " [109.312706]\n",
      " [109.31866 ]\n",
      " [108.65902 ]\n",
      " [108.031624]\n",
      " [107.471245]\n",
      " [106.96088 ]\n",
      " [106.7272  ]\n",
      " [106.8757  ]\n",
      " [107.07041 ]\n",
      " [106.819695]\n",
      " [106.083374]\n",
      " [105.16379 ]\n",
      " [104.41492 ]\n",
      " [104.29564 ]\n",
      " [105.138145]\n",
      " [106.219955]\n",
      " [107.17581 ]\n",
      " [108.17249 ]\n",
      " [108.92898 ]\n",
      " [109.6135  ]\n",
      " [110.16854 ]\n",
      " [110.74091 ]\n",
      " [111.53    ]\n",
      " [112.308586]\n",
      " [112.93038 ]\n",
      " [113.38429 ]\n",
      " [113.573   ]\n",
      " [113.514145]\n",
      " [113.29039 ]\n",
      " [112.70833 ]\n",
      " [111.80524 ]\n",
      " [110.73074 ]\n",
      " [109.627884]\n",
      " [108.7938  ]\n",
      " [108.056114]\n",
      " [107.18987 ]\n",
      " [106.19307 ]\n",
      " [105.054016]\n",
      " [104.04528 ]\n",
      " [103.15829 ]\n",
      " [102.256714]\n",
      " [101.44502 ]\n",
      " [100.929016]\n",
      " [100.879265]\n",
      " [101.047775]\n",
      " [100.86454 ]\n",
      " [100.25349 ]\n",
      " [ 99.38259 ]\n",
      " [ 98.3223  ]\n",
      " [ 97.1476  ]\n",
      " [ 96.006325]\n",
      " [ 95.01827 ]\n",
      " [ 94.23424 ]\n",
      " [ 93.62407 ]\n",
      " [ 93.19372 ]\n",
      " [ 92.91086 ]\n",
      " [ 92.76851 ]\n",
      " [ 92.76757 ]\n",
      " [ 92.87798 ]\n",
      " [ 93.20636 ]\n",
      " [ 93.816795]\n",
      " [ 94.57911 ]\n",
      " [ 95.14961 ]\n",
      " [ 95.32087 ]\n",
      " [ 95.13942 ]\n",
      " [ 94.700676]\n",
      " [ 94.09917 ]\n",
      " [ 93.411354]\n",
      " [ 92.84907 ]\n",
      " [ 93.05025 ]\n",
      " [ 93.91741 ]\n",
      " [ 94.63168 ]\n",
      " [ 94.66049 ]\n",
      " [ 94.366005]\n",
      " [ 94.06559 ]\n",
      " [ 93.73165 ]\n",
      " [ 93.207596]\n",
      " [ 92.39088 ]\n",
      " [ 91.38353 ]\n",
      " [ 90.363235]\n",
      " [ 89.5077  ]\n",
      " [ 88.82814 ]\n",
      " [ 88.34372 ]\n",
      " [ 87.9989  ]\n",
      " [ 87.73015 ]\n",
      " [ 87.442635]\n",
      " [ 87.10895 ]\n",
      " [ 87.13883 ]\n",
      " [ 88.44992 ]\n",
      " [ 90.52213 ]\n",
      " [ 92.400764]\n",
      " [ 93.41856 ]\n",
      " [ 93.76095 ]\n",
      " [ 93.80603 ]\n",
      " [ 93.71825 ]\n",
      " [ 93.54772 ]\n",
      " [ 93.31808 ]\n",
      " [ 93.09937 ]\n",
      " [ 92.83625 ]\n",
      " [ 92.40295 ]\n",
      " [ 92.12953 ]\n",
      " [ 92.36811 ]\n",
      " [ 92.88632 ]\n",
      " [ 93.21108 ]\n",
      " [ 92.99645 ]\n",
      " [ 92.3481  ]\n",
      " [ 91.298935]\n",
      " [ 90.07803 ]\n",
      " [ 88.90871 ]\n",
      " [ 87.977036]\n",
      " [ 87.39115 ]\n",
      " [ 87.08402 ]\n",
      " [ 86.92821 ]\n",
      " [ 86.837616]\n",
      " [ 86.7788  ]\n",
      " [ 86.738754]\n",
      " [ 86.71859 ]\n",
      " [ 86.72437 ]\n",
      " [ 86.72452 ]\n",
      " [ 86.714424]\n",
      " [ 86.71454 ]\n",
      " [ 86.81916 ]\n",
      " [ 87.26073 ]\n",
      " [ 87.99108 ]\n",
      " [ 88.6958  ]\n",
      " [ 89.1841  ]\n",
      " [ 89.45904 ]\n",
      " [ 89.58248 ]\n",
      " [ 89.77758 ]\n",
      " [ 90.24511 ]\n",
      " [ 90.869316]\n",
      " [ 91.4808  ]\n",
      " [ 91.80484 ]\n",
      " [ 91.9706  ]\n",
      " [ 92.35409 ]\n",
      " [ 93.286674]\n",
      " [ 94.19905 ]\n",
      " [ 94.52631 ]\n",
      " [ 94.42026 ]\n",
      " [ 94.11242 ]\n",
      " [ 93.73973 ]\n",
      " [ 93.34176 ]\n",
      " [ 93.70473 ]\n",
      " [ 94.80078 ]\n",
      " [ 95.58536 ]\n",
      " [ 95.52014 ]\n",
      " [ 94.99584 ]\n",
      " [ 94.27305 ]\n",
      " [ 93.27622 ]\n",
      " [ 92.01619 ]\n",
      " [ 90.57743 ]\n",
      " [ 89.17264 ]\n",
      " [ 87.92907 ]\n",
      " [ 87.0052  ]\n",
      " [ 86.383354]\n",
      " [ 86.06941 ]\n",
      " [ 85.98397 ]\n",
      " [ 86.044395]\n",
      " [ 86.19844 ]\n",
      " [ 86.388145]\n",
      " [ 86.51975 ]\n",
      " [ 86.61898 ]\n",
      " [ 86.80878 ]\n",
      " [ 87.4758  ]\n",
      " [ 88.758354]\n",
      " [ 90.13862 ]\n",
      " [ 91.16074 ]\n",
      " [ 91.681114]\n",
      " [ 91.82523 ]\n",
      " [ 91.69127 ]\n",
      " [ 91.44256 ]\n",
      " [ 91.33982 ]\n",
      " [ 92.00226 ]\n",
      " [ 93.44847 ]\n",
      " [ 95.1023  ]\n",
      " [ 96.416885]\n",
      " [ 97.23782 ]\n",
      " [ 97.5717  ]\n",
      " [ 97.52382 ]\n",
      " [ 97.19458 ]\n",
      " [ 96.76257 ]\n",
      " [ 96.20982 ]\n",
      " [ 95.48991 ]\n",
      " [ 94.50677 ]\n",
      " [ 93.515305]\n",
      " [ 93.04084 ]\n",
      " [ 93.65145 ]\n",
      " [ 95.00561 ]\n",
      " [ 96.45514 ]\n",
      " [ 97.448105]\n",
      " [ 97.77998 ]\n",
      " [ 97.914   ]\n",
      " [ 98.077805]\n",
      " [ 98.35325 ]\n",
      " [ 98.56995 ]\n",
      " [ 98.611786]\n",
      " [ 98.543655]\n",
      " [ 98.47098 ]\n",
      " [ 98.60261 ]\n",
      " [ 98.89086 ]\n",
      " [ 99.148094]\n",
      " [ 99.44919 ]\n",
      " [ 99.92932 ]\n",
      " [100.49407 ]\n",
      " [100.85718 ]\n",
      " [100.942635]\n",
      " [100.743095]\n",
      " [100.44633 ]\n",
      " [100.311554]\n",
      " [100.61737 ]\n",
      " [102.36656 ]\n",
      " [105.705734]\n",
      " [108.489685]\n",
      " [109.3539  ]\n",
      " [109.807434]\n",
      " [110.750275]\n",
      " [112.36222 ]\n",
      " [113.9426  ]\n",
      " [115.05494 ]\n",
      " [115.35192 ]\n",
      " [115.40642 ]\n",
      " [115.33234 ]\n",
      " [115.430466]\n",
      " [115.45102 ]\n",
      " [115.24884 ]\n",
      " [114.94403 ]\n",
      " [114.71316 ]\n",
      " [114.74614 ]\n",
      " [115.05858 ]\n",
      " [115.08475 ]\n",
      " [114.734085]\n",
      " [114.307755]\n",
      " [114.180016]\n",
      " [114.29901 ]\n",
      " [114.43859 ]\n",
      " [114.82802 ]\n",
      " [115.14259 ]\n",
      " [115.18987 ]\n",
      " [114.93151 ]\n",
      " [114.61467 ]\n",
      " [114.37448 ]\n",
      " [113.95691 ]\n",
      " [113.302315]\n",
      " [112.74117 ]\n",
      " [112.5986  ]\n",
      " [112.8831  ]\n",
      " [113.108986]\n",
      " [113.208435]\n",
      " [113.275116]\n",
      " [113.16796 ]\n",
      " [112.75481 ]\n",
      " [112.35199 ]\n",
      " [112.34762 ]\n",
      " [113.27616 ]\n",
      " [114.96631 ]\n",
      " [116.32031 ]\n",
      " [116.914215]\n",
      " [116.934875]\n",
      " [116.77212 ]\n",
      " [116.493095]\n",
      " [116.13862 ]\n",
      " [116.49749 ]\n",
      " [118.5135  ]\n",
      " [120.77581 ]\n",
      " [122.4634  ]\n",
      " [123.40594 ]\n",
      " [124.13243 ]\n",
      " [124.47754 ]\n",
      " [124.41163 ]\n",
      " [124.06624 ]\n",
      " [123.6644  ]\n",
      " [123.55575 ]\n",
      " [123.6261  ]\n",
      " [123.377754]\n",
      " [122.90323 ]\n",
      " [122.66112 ]\n",
      " [122.51783 ]\n",
      " [122.443756]\n",
      " [122.3399  ]\n",
      " [122.09295 ]\n",
      " [121.90431 ]\n",
      " [122.1191  ]\n",
      " [123.42992 ]\n",
      " [124.6012  ]\n",
      " [125.31681 ]\n",
      " [126.138405]\n",
      " [127.51018 ]\n",
      " [129.26479 ]\n",
      " [130.96506 ]\n",
      " [132.01775 ]\n",
      " [132.63194 ]\n",
      " [132.71884 ]\n",
      " [132.37639 ]\n",
      " [131.97142 ]\n",
      " [131.80406 ]\n",
      " [131.553   ]\n",
      " [131.38684 ]\n",
      " [131.55682 ]\n",
      " [131.79663 ]\n",
      " [131.98    ]\n",
      " [132.25975 ]\n",
      " [131.82184 ]\n",
      " [130.90422 ]\n",
      " [129.7661  ]\n",
      " [128.46945 ]\n",
      " [127.38322 ]\n",
      " [126.65324 ]\n",
      " [126.578995]\n",
      " [126.86955 ]\n",
      " [127.45611 ]\n",
      " [128.12158 ]\n",
      " [129.13477 ]\n",
      " [130.19821 ]\n",
      " [131.5132  ]\n",
      " [133.00958 ]\n",
      " [134.2674  ]\n",
      " [135.35101 ]\n",
      " [136.10657 ]\n",
      " [136.34375 ]\n",
      " [136.11908 ]\n",
      " [135.64474 ]\n",
      " [135.06596 ]\n",
      " [134.37396 ]\n",
      " [133.33957 ]\n",
      " [132.45354 ]\n",
      " [131.12895 ]\n",
      " [129.11313 ]\n",
      " [126.873634]\n",
      " [124.368576]\n",
      " [121.78614 ]\n",
      " [119.662415]\n",
      " [119.339516]\n",
      " [119.72809 ]\n",
      " [120.09369 ]\n",
      " [120.51119 ]\n",
      " [121.233406]\n",
      " [122.50688 ]\n",
      " [123.92325 ]\n",
      " [125.34343 ]\n",
      " [126.93982 ]\n",
      " [128.51395 ]\n",
      " [129.71837 ]\n",
      " [130.65251 ]\n",
      " [131.07687 ]\n",
      " [131.27263 ]\n",
      " [131.51993 ]\n",
      " [131.87128 ]\n",
      " [131.89163 ]\n",
      " [131.57324 ]]\n",
      "[133.365494]\n"
     ]
    },
    {
     "data": {
      "text/plain": [
       "(None, None)"
      ]
     },
     "execution_count": 88,
     "metadata": {},
     "output_type": "execute_result"
    }
   ],
   "source": [
    "print(predicted_stock_price), print(real_stock_price[0])"
   ]
  },
  {
   "cell_type": "markdown",
   "id": "07ce93ac",
   "metadata": {},
   "source": [
    "# Visualisation"
   ]
  },
  {
   "cell_type": "code",
   "execution_count": 89,
   "id": "cabf5418",
   "metadata": {},
   "outputs": [
    {
     "data": {
      "image/png": "[encoded data removed]",
      "text/plain": [
       "<Figure size 640x480 with 1 Axes>"
      ]
     },
     "metadata": {},
     "output_type": "display_data"
    }
   ],
   "source": [
    "# visualising the results\n",
    "plt.plot(real_stock_price, color='red', label='Real Google Stock Price')\n",
    "plt.plot(predicted_stock_price, color='blue', label='Predicted Google Stock Price')\n",
    "plt.title('Google stock price prediction')\n",
    "plt.xlabel('Time')\n",
    "plt.ylabel('Google stock price')\n",
    "plt.legend()\n",
    "plt.show()"
   ]
  },
  {
   "cell_type": "markdown",
   "id": "a2dfe2b9",
   "metadata": {},
   "source": [
    "As we can see the trend is captured, the trend would be more captured if we go on adding more layers."
   ]
  }
 ],
 "metadata": {
  "kernelspec": {
   "display_name": "Python 3 (ipykernel)",
   "language": "python",
   "name": "python3"
  },
  "language_info": {
   "codemirror_mode": {
    "name": "ipython",
    "version": 3
   },
   "file_extension": ".py",
   "mimetype": "text/x-python",
   "name": "python",
   "nbconvert_exporter": "python",
   "pygments_lexer": "ipython3",
   "version": "3.11.4"
  }
 },
 "nbformat": 4,
 "nbformat_minor": 5
}
