{
 "cells": [
  {
   "cell_type": "code",
   "execution_count": 4,
   "id": "91d6e91b",
   "metadata": {},
   "outputs": [],
   "source": [
    "import tensorflow as tf"
   ]
  },
  {
   "cell_type": "code",
   "execution_count": 5,
   "id": "1e191caf",
   "metadata": {},
   "outputs": [],
   "source": [
    "import numpy as np\n",
    "import pandas as pd\n",
    "import matplotlib.pyplot as plt"
   ]
  },
  {
   "cell_type": "markdown",
   "id": "2111a276",
   "metadata": {},
   "source": [
    "# Data Preprocessing"
   ]
  },
  {
   "cell_type": "code",
   "execution_count": 6,
   "id": "cf46bb4b",
   "metadata": {},
   "outputs": [],
   "source": [
    "# Importing the dataset\n",
    "from tensorflow.keras.datasets import cifar10 # built in dataset\n",
    "# https://www.kaggle.com/c/cifar-10/"
   ]
  },
  {
   "cell_type": "code",
   "execution_count": 13,
   "id": "b2fb413e",
   "metadata": {},
   "outputs": [
    {
     "name": "stdout",
     "output_type": "stream",
     "text": [
      "A local file was found, but it seems to be incomplete or outdated because the auto file hash does not match the original value of 6d958be074577803d12ecdefd02955f39262c83c16fe9348329d7fe0b5c001ce so we will re-download the data.\n",
      "Downloading data from https://www.cs.toronto.edu/~kriz/cifar-10-python.tar.gz\n",
      "170498071/170498071 [==============================] - 643s 4us/step\n"
     ]
    }
   ],
   "source": [
    "#loading the dataset\n",
    "(x_train,y_train),(x_test,y_test)=cifar10.load_data()"
   ]
  },
  {
   "cell_type": "code",
   "execution_count": 14,
   "id": "cc4cb2c2",
   "metadata": {},
   "outputs": [],
   "source": [
    "class_names=['0 : airplane', '1 : automobile', '2 : bird', '3 : cat','4 : deer', '5 : dog', '6 : frog', '7 : horse', '8 : ship', '9 : truck']"
   ]
  },
  {
   "cell_type": "code",
   "execution_count": 15,
   "id": "0f61f928",
   "metadata": {},
   "outputs": [
    {
     "name": "stdout",
     "output_type": "stream",
     "text": [
      "['0 : airplane', '1 : automobile', '2 : bird', '3 : cat', '4 : deer', '5 : dog', '6 : frog', '7 : horse', '8 : ship', '9 : truck']\n"
     ]
    }
   ],
   "source": [
    "print(class_names)"
   ]
  },
  {
   "cell_type": "code",
   "execution_count": 16,
   "id": "d644f973",
   "metadata": {},
   "outputs": [
    {
     "data": {
      "text/plain": [
       "(255, 0, 120.70756512369792)"
      ]
     },
     "execution_count": 16,
     "metadata": {},
     "output_type": "execute_result"
    }
   ],
   "source": [
    "x_train.max(), x_train.min(), x_train.mean() #max is 255 images"
   ]
  },
  {
   "cell_type": "code",
   "execution_count": 17,
   "id": "d461ef47",
   "metadata": {},
   "outputs": [
    {
     "data": {
      "text/plain": [
       "(9, 0)"
      ]
     },
     "execution_count": 17,
     "metadata": {},
     "output_type": "execute_result"
    }
   ],
   "source": [
    "y_train.max(), y_train.min()"
   ]
  },
  {
   "cell_type": "code",
   "execution_count": 18,
   "id": "da275bda",
   "metadata": {},
   "outputs": [],
   "source": [
    "# Normalising the images\n",
    "x_train=x_train/255.0\n",
    "x_test=x_test/255.0"
   ]
  },
  {
   "cell_type": "code",
   "execution_count": 19,
   "id": "7a4e9a3d",
   "metadata": {},
   "outputs": [
    {
     "data": {
      "text/plain": [
       "(1.0, 0.0, 0.4733630004850874)"
      ]
     },
     "execution_count": 19,
     "metadata": {},
     "output_type": "execute_result"
    }
   ],
   "source": [
    "x_train.max(), x_train.min(), x_train.mean() #range is from 0-1"
   ]
  },
  {
   "cell_type": "code",
   "execution_count": 20,
   "id": "9d4dd47f",
   "metadata": {},
   "outputs": [
    {
     "data": {
      "text/plain": [
       "((50000, 32, 32, 3), (10000, 32, 32, 3))"
      ]
     },
     "execution_count": 20,
     "metadata": {},
     "output_type": "execute_result"
    }
   ],
   "source": [
    "x_train.shape,x_test.shape"
   ]
  },
  {
   "cell_type": "code",
   "execution_count": 21,
   "id": "2b0ba7a5",
   "metadata": {},
   "outputs": [
    {
     "data": {
      "text/plain": [
       "<matplotlib.image.AxesImage at 0x1b2f4cf82d0>"
      ]
     },
     "execution_count": 21,
     "metadata": {},
     "output_type": "execute_result"
    },
    {
     "data": {
      "image/png": "[encoded data removed]",
      "text/plain": [
       "<Figure size 640x480 with 1 Axes>"
      ]
     },
     "metadata": {},
     "output_type": "display_data"
    }
   ],
   "source": [
    "plt.imshow(x_train[0])"
   ]
  },
  {
   "cell_type": "code",
   "execution_count": 22,
   "id": "1d23993a",
   "metadata": {},
   "outputs": [
    {
     "data": {
      "text/plain": [
       "array([6], dtype=uint8)"
      ]
     },
     "execution_count": 22,
     "metadata": {},
     "output_type": "execute_result"
    }
   ],
   "source": [
    "y_train[0] # we see the image name in the same index from y_train"
   ]
  },
  {
   "cell_type": "code",
   "execution_count": 23,
   "id": "962cdda3",
   "metadata": {},
   "outputs": [
    {
     "data": {
      "text/plain": [
       "['0 : airplane',\n",
       " '1 : automobile',\n",
       " '2 : bird',\n",
       " '3 : cat',\n",
       " '4 : deer',\n",
       " '5 : dog',\n",
       " '6 : frog',\n",
       " '7 : horse',\n",
       " '8 : ship',\n",
       " '9 : truck']"
      ]
     },
     "execution_count": 23,
     "metadata": {},
     "output_type": "execute_result"
    }
   ],
   "source": [
    "class_names\n",
    "# and then check it in class names"
   ]
  },
  {
   "cell_type": "markdown",
   "id": "5889bf67",
   "metadata": {},
   "source": [
    "as the size is 32x32 (given in site)"
   ]
  },
  {
   "cell_type": "markdown",
   "id": "44fc61d1",
   "metadata": {},
   "source": [
    "# Building the CNN model"
   ]
  },
  {
   "cell_type": "code",
   "execution_count": 24,
   "id": "f7366383",
   "metadata": {},
   "outputs": [
    {
     "name": "stdout",
     "output_type": "stream",
     "text": [
      "WARNING:tensorflow:From C:\\Users\\HP\\anaconda3\\Lib\\site-packages\\keras\\src\\backend.py:873: The name tf.get_default_graph is deprecated. Please use tf.compat.v1.get_default_graph instead.\n",
      "\n"
     ]
    }
   ],
   "source": [
    "# defining the object\n",
    "model= tf.keras.models.Sequential()"
   ]
  },
  {
   "cell_type": "markdown",
   "id": "002ec0fa",
   "metadata": {},
   "source": [
    " Adding first CNN layer\n",
    " we add 5 parameters here\n",
    "1) filters (kernel) = 32\n",
    "2) kernal size = 3  3) padding = same\n",
    "4) activation = ReLU\n",
    "5) input shape = 32x32x3 ( RGB channel so 3 )\n",
    "\n",
    " Same Padding = image+filter= output (here we add a column of zeros)\n",
    " valid padding , we loose information andf we dont add the column of zeros\n"
   ]
  },
  {
   "cell_type": "code",
   "execution_count": 31,
   "id": "b5195a76",
   "metadata": {},
   "outputs": [],
   "source": [
    "model.add(tf.keras.layers.Conv2D(filters=32, kernel_size=3, padding='same', activation='relu', input_shape=[32,32,3]))"
   ]
  },
  {
   "cell_type": "code",
   "execution_count": 33,
   "id": "0268a5b4",
   "metadata": {},
   "outputs": [
    {
     "name": "stdout",
     "output_type": "stream",
     "text": [
      "WARNING:tensorflow:From C:\\Users\\HP\\anaconda3\\Lib\\site-packages\\keras\\src\\layers\\pooling\\max_pooling2d.py:161: The name tf.nn.max_pool is deprecated. Please use tf.nn.max_pool2d instead.\n",
      "\n"
     ]
    }
   ],
   "source": [
    "# adding second CNN Layer\n",
    "model.add(tf.keras.layers.Conv2D(filters=32, kernel_size=3, padding='same', activation='relu'))\n",
    "\n",
    "#maxpool layer parameters\n",
    "# 1) pool size =3\n",
    "# 2) strides =2\n",
    "# 3) padding=valid\n",
    "\n",
    "# pool size : is the size of the sqaure units on which we would be selecting the maximum\n",
    "# by how many unit pixels the pool size is moving is the strides\n",
    "\n",
    "model.add(tf.keras.layers.MaxPool2D(pool_size=2, strides=2, padding='valid'))"
   ]
  },
  {
   "cell_type": "code",
   "execution_count": 34,
   "id": "19cdcdb5",
   "metadata": {},
   "outputs": [],
   "source": [
    "# adding 3rd CNN layer\n",
    "model.add(tf.keras.layers.Conv2D(filters=64, kernel_size=3, padding='same', activation='relu')) #filters are 64"
   ]
  },
  {
   "cell_type": "code",
   "execution_count": 35,
   "id": "f788b7bf",
   "metadata": {},
   "outputs": [],
   "source": [
    "# adding fourth CNN Layer\n",
    "model.add(tf.keras.layers.Conv2D(filters=64, kernel_size=3, padding='same', activation='relu'))\n",
    "\n",
    "#maxpool layer parameters\n",
    "# 1) pool size =3\n",
    "# 2) strides =2\n",
    "# 3) padding=valid\n",
    "\n",
    "# pool size : is the size of the sqaure units on which we would be selecting the maximum\n",
    "# by how many unit pixels the pool size is moving is the strides\n",
    "\n",
    "model.add(tf.keras.layers.MaxPool2D(pool_size=2, strides=2, padding='valid'))"
   ]
  },
  {
   "cell_type": "code",
   "execution_count": 37,
   "id": "1161f087",
   "metadata": {},
   "outputs": [],
   "source": [
    "# dropout layer (for regularisation)\n",
    "model.add(tf.keras.layers.Dropout(0.4))"
   ]
  },
  {
   "cell_type": "code",
   "execution_count": 38,
   "id": "7b71ff7f",
   "metadata": {},
   "outputs": [],
   "source": [
    "# adding the flatening layer\n",
    "model.add(tf.keras.layers.Flatten()) # we are converting the array into a vector with the help of flattening layer"
   ]
  },
  {
   "cell_type": "code",
   "execution_count": 41,
   "id": "0e2a15df",
   "metadata": {},
   "outputs": [],
   "source": [
    "# Adding the first dense layer\n",
    "model.add(tf.keras.layers.Dense(units=128, activation='relu'))"
   ]
  },
  {
   "cell_type": "code",
   "execution_count": 42,
   "id": "7201f86d",
   "metadata": {},
   "outputs": [],
   "source": [
    "# Adding the SECOND dense layer\n",
    "model.add(tf.keras.layers.Dense(units=10, activation='softmax')) # as the number of outputs would be 10, and softmax for prob"
   ]
  },
  {
   "cell_type": "code",
   "execution_count": 43,
   "id": "7952e5a9",
   "metadata": {},
   "outputs": [
    {
     "name": "stdout",
     "output_type": "stream",
     "text": [
      "Model: \"sequential\"\n",
      "_________________________________________________________________\n",
      " Layer (type)                Output Shape              Param #   \n",
      "=================================================================\n",
      " conv2d (Conv2D)             (None, 32, 32, 32)        896       \n",
      "                                                                 \n",
      " conv2d_1 (Conv2D)           (None, 32, 32, 32)        9248      \n",
      "                                                                 \n",
      " conv2d_2 (Conv2D)           (None, 32, 32, 32)        9248      \n",
      "                                                                 \n",
      " max_pooling2d (MaxPooling2  (None, 16, 16, 32)        0         \n",
      " D)                                                              \n",
      "                                                                 \n",
      " conv2d_3 (Conv2D)           (None, 16, 16, 64)        18496     \n",
      "                                                                 \n",
      " conv2d_4 (Conv2D)           (None, 16, 16, 64)        36928     \n",
      "                                                                 \n",
      " max_pooling2d_1 (MaxPoolin  (None, 8, 8, 64)          0         \n",
      " g2D)                                                            \n",
      "                                                                 \n",
      " dropout (Dropout)           (None, 8, 8, 64)          0         \n",
      "                                                                 \n",
      " flatten (Flatten)           (None, 4096)              0         \n",
      "                                                                 \n",
      " dense (Dense)               (None, 128)               524416    \n",
      "                                                                 \n",
      " dense_1 (Dense)             (None, 10)                1290      \n",
      "                                                                 \n",
      "=================================================================\n",
      "Total params: 600522 (2.29 MB)\n",
      "Trainable params: 600522 (2.29 MB)\n",
      "Non-trainable params: 0 (0.00 Byte)\n",
      "_________________________________________________________________\n"
     ]
    }
   ],
   "source": [
    "model.summary()"
   ]
  },
  {
   "cell_type": "markdown",
   "id": "213b0752",
   "metadata": {},
   "source": [
    "# Training the model"
   ]
  },
  {
   "cell_type": "code",
   "execution_count": 47,
   "id": "edd0ff82",
   "metadata": {},
   "outputs": [],
   "source": [
    "# Compiling the model\n",
    "model.compile(loss='sparse_categorical_crossentropy', optimizer='adam', metrics=['sparse_categorical_accuracy'])\n",
    "# loss function, optimiser will find the global minimum, metrics is for accuracy calculation.\n",
    "# sparce as we have multiple outputs"
   ]
  },
  {
   "cell_type": "code",
   "execution_count": 52,
   "id": "87697114",
   "metadata": {},
   "outputs": [
    {
     "name": "stdout",
     "output_type": "stream",
     "text": [
      "Epoch 1/10\n",
      "5000/5000 [==============================] - 180s 36ms/step - loss: 0.3894 - sparse_categorical_accuracy: 0.8636\n",
      "Epoch 2/10\n",
      "5000/5000 [==============================] - 182s 36ms/step - loss: 0.3874 - sparse_categorical_accuracy: 0.8656\n",
      "Epoch 3/10\n",
      "5000/5000 [==============================] - 187s 37ms/step - loss: 0.3789 - sparse_categorical_accuracy: 0.8682\n",
      "Epoch 4/10\n",
      "5000/5000 [==============================] - 184s 37ms/step - loss: 0.3719 - sparse_categorical_accuracy: 0.8692\n",
      "Epoch 5/10\n",
      "5000/5000 [==============================] - 6806s 1s/step - loss: 0.3709 - sparse_categorical_accuracy: 0.8713\n",
      "Epoch 6/10\n",
      "5000/5000 [==============================] - 184s 37ms/step - loss: 0.3608 - sparse_categorical_accuracy: 0.8757\n",
      "Epoch 7/10\n",
      "5000/5000 [==============================] - 179s 36ms/step - loss: 0.3574 - sparse_categorical_accuracy: 0.8771\n",
      "Epoch 8/10\n",
      "5000/5000 [==============================] - 181s 36ms/step - loss: 0.3593 - sparse_categorical_accuracy: 0.8751\n",
      "Epoch 9/10\n",
      "5000/5000 [==============================] - 183s 37ms/step - loss: 0.3407 - sparse_categorical_accuracy: 0.8820\n",
      "Epoch 10/10\n",
      "5000/5000 [==============================] - 11097s 2s/step - loss: 0.3397 - sparse_categorical_accuracy: 0.8812\n"
     ]
    },
    {
     "data": {
      "text/plain": [
       "<keras.src.callbacks.History at 0x1b283d65710>"
      ]
     },
     "execution_count": 52,
     "metadata": {},
     "output_type": "execute_result"
    }
   ],
   "source": [
    "# training of model-\n",
    "model.fit(x_train,y_train,batch_size=10,epochs=10)"
   ]
  },
  {
   "cell_type": "markdown",
   "id": "2c7c8e92",
   "metadata": {},
   "source": [
    "# Model Evaluation and prediction"
   ]
  },
  {
   "cell_type": "code",
   "execution_count": 53,
   "id": "1d23d62e",
   "metadata": {},
   "outputs": [
    {
     "name": "stdout",
     "output_type": "stream",
     "text": [
      "313/313 [==============================] - 13s 37ms/step - loss: 0.8705 - sparse_categorical_accuracy: 0.7546\n"
     ]
    }
   ],
   "source": [
    "# evaluate the model performance\n",
    "test_loss, test_acc=model.evaluate(x_test,y_test)"
   ]
  },
  {
   "cell_type": "code",
   "execution_count": 54,
   "id": "e0c83e60",
   "metadata": {},
   "outputs": [
    {
     "name": "stdout",
     "output_type": "stream",
     "text": [
      "Test Accuracy : 0.7545999884605408 \n"
     ]
    }
   ],
   "source": [
    "print('Test Accuracy : {} '.format(test_acc))"
   ]
  },
  {
   "cell_type": "markdown",
   "id": "d8595454",
   "metadata": {},
   "source": [
    "Above we get the test accuracy of out model, we do the same using a corr matrix and then using a corr accuracy"
   ]
  },
  {
   "cell_type": "code",
   "execution_count": 57,
   "id": "79919fa7",
   "metadata": {},
   "outputs": [
    {
     "name": "stdout",
     "output_type": "stream",
     "text": [
      "313/313 [==============================] - 10s 33ms/step\n"
     ]
    }
   ],
   "source": [
    "# Predictions\n",
    "y_pred=model.predict(x_test)"
   ]
  },
  {
   "cell_type": "code",
   "execution_count": 58,
   "id": "be97ba76",
   "metadata": {},
   "outputs": [
    {
     "name": "stdout",
     "output_type": "stream",
     "text": [
      "[7.7749959e-05 3.1125750e-05 1.5260197e-02 1.9007108e-01 1.2177713e-01\n",
      " 5.9450257e-01 5.0399933e-02 2.7675811e-02 1.8709081e-05 1.8580801e-04] [5]\n"
     ]
    }
   ],
   "source": [
    "print(y_pred[101],y_test[101]) # compare it witha actual one"
   ]
  }
 ],
 "metadata": {
  "kernelspec": {
   "display_name": "Python 3 (ipykernel)",
   "language": "python",
   "name": "python3"
  },
  "language_info": {
   "codemirror_mode": {
    "name": "ipython",
    "version": 3
   },
   "file_extension": ".py",
   "mimetype": "text/x-python",
   "name": "python",
   "nbconvert_exporter": "python",
   "pygments_lexer": "ipython3",
   "version": "3.11.4"
  }
 },
 "nbformat": 4,
 "nbformat_minor": 5
}
