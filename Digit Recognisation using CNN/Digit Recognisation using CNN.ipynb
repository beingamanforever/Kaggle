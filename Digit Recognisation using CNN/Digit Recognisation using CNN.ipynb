{
 "cells": [
  {
   "cell_type": "code",
   "execution_count": null,
   "id": "daa1393c",
   "metadata": {},
   "outputs": [],
   "source": [
    "#pip install tensorflow"
   ]
  },
  {
   "cell_type": "code",
   "execution_count": 1,
   "id": "d380453f",
   "metadata": {},
   "outputs": [
    {
     "name": "stdout",
     "output_type": "stream",
     "text": [
      "WARNING:tensorflow:From C:\\Users\\HP\\anaconda3\\Lib\\site-packages\\keras\\src\\losses.py:2976: The name tf.losses.sparse_softmax_cross_entropy is deprecated. Please use tf.compat.v1.losses.sparse_softmax_cross_entropy instead.\n",
      "\n"
     ]
    }
   ],
   "source": [
    "import tensorflow as tf"
   ]
  },
  {
   "cell_type": "code",
   "execution_count": 2,
   "id": "eb113bce",
   "metadata": {},
   "outputs": [
    {
     "name": "stdout",
     "output_type": "stream",
     "text": [
      "2.15.0\n"
     ]
    }
   ],
   "source": [
    "print(tf.__version__)"
   ]
  },
  {
   "cell_type": "code",
   "execution_count": 3,
   "id": "02f6af1c",
   "metadata": {},
   "outputs": [],
   "source": [
    "import numpy as np\n",
    "import pandas as pd\n",
    "import matplotlib.pyplot as plt"
   ]
  },
  {
   "cell_type": "markdown",
   "id": "0abbfffe",
   "metadata": {},
   "source": [
    "# Data Preprocessing "
   ]
  },
  {
   "cell_type": "code",
   "execution_count": 6,
   "id": "8fa6a229",
   "metadata": {},
   "outputs": [],
   "source": [
    "#import the dataset\n",
    "from tensorflow.keras.datasets import mnist #built-in dataset"
   ]
  },
  {
   "cell_type": "code",
   "execution_count": 8,
   "id": "fab22622",
   "metadata": {},
   "outputs": [
    {
     "name": "stdout",
     "output_type": "stream",
     "text": [
      "Downloading data from https://storage.googleapis.com/tensorflow/tf-keras-datasets/mnist.npz\n",
      "11490434/11490434 [==============================] - 5s 0us/step\n"
     ]
    }
   ],
   "source": [
    "# loading the dataset, in two tuples\n",
    "(x_train,y_train),(x_test,y_test)=mnist.load_data()"
   ]
  },
  {
   "cell_type": "code",
   "execution_count": 10,
   "id": "7c43ce7d",
   "metadata": {},
   "outputs": [
    {
     "data": {
      "text/plain": [
       "<matplotlib.image.AxesImage at 0x2036b02d410>"
      ]
     },
     "execution_count": 10,
     "metadata": {},
     "output_type": "execute_result"
    },
    {
     "data": {
      "image/png": "[encoded data removed]",
      "text/plain": [
       "<Figure size 640x480 with 1 Axes>"
      ]
     },
     "metadata": {},
     "output_type": "display_data"
    }
   ],
   "source": [
    "plt.imshow(x_train[0]) #let's check the images"
   ]
  },
  {
   "cell_type": "code",
   "execution_count": 11,
   "id": "0a78b214",
   "metadata": {},
   "outputs": [
    {
     "data": {
      "text/plain": [
       "5"
      ]
     },
     "execution_count": 11,
     "metadata": {},
     "output_type": "execute_result"
    }
   ],
   "source": [
    "y_train[0]"
   ]
  },
  {
   "cell_type": "code",
   "execution_count": 12,
   "id": "2df1f69f",
   "metadata": {},
   "outputs": [
    {
     "data": {
      "text/plain": [
       "((60000, 28, 28), (60000,))"
      ]
     },
     "execution_count": 12,
     "metadata": {},
     "output_type": "execute_result"
    }
   ],
   "source": [
    "x_train.shape, y_train.shape"
   ]
  },
  {
   "cell_type": "markdown",
   "id": "89f4e7c7",
   "metadata": {},
   "source": [
    "We see that there are 60,000 images and the size of these images is (28 x 28)."
   ]
  },
  {
   "cell_type": "code",
   "execution_count": 13,
   "id": "436184d0",
   "metadata": {},
   "outputs": [
    {
     "data": {
      "text/plain": [
       "((10000, 28, 28), (10000,))"
      ]
     },
     "execution_count": 13,
     "metadata": {},
     "output_type": "execute_result"
    }
   ],
   "source": [
    "x_test.shape, y_test.shape"
   ]
  },
  {
   "cell_type": "markdown",
   "id": "985f4a2e",
   "metadata": {},
   "source": [
    "We see that there are 10,000 images and the size of these images is (28 x 28)."
   ]
  },
  {
   "cell_type": "code",
   "execution_count": 14,
   "id": "d38697a9",
   "metadata": {},
   "outputs": [
    {
     "data": {
      "text/plain": [
       "(0, 255)"
      ]
     },
     "execution_count": 14,
     "metadata": {},
     "output_type": "execute_result"
    }
   ],
   "source": [
    "# let's check minimum and maximum values in these images\n",
    "x_train.min(), x_train.max()"
   ]
  },
  {
   "cell_type": "markdown",
   "id": "cfde79a6",
   "metadata": {},
   "source": [
    "This is the pixel values in the image, which ranges from 0-255"
   ]
  },
  {
   "cell_type": "code",
   "execution_count": 15,
   "id": "0ca0627f",
   "metadata": {},
   "outputs": [
    {
     "data": {
      "text/plain": [
       "(0, 9)"
      ]
     },
     "execution_count": 15,
     "metadata": {},
     "output_type": "execute_result"
    }
   ],
   "source": [
    "y_train.min(), y_train.max()"
   ]
  },
  {
   "cell_type": "markdown",
   "id": "1769fced",
   "metadata": {},
   "source": [
    "As we can see there are 10 different values(from 0-9)."
   ]
  },
  {
   "cell_type": "code",
   "execution_count": 16,
   "id": "6773b4bd",
   "metadata": {},
   "outputs": [],
   "source": [
    "# normalise the images\n",
    "x_train=x_train/255.0\n",
    "x_test=x_test/255.0"
   ]
  },
  {
   "cell_type": "code",
   "execution_count": 18,
   "id": "cc1dc44d",
   "metadata": {},
   "outputs": [
    {
     "data": {
      "text/plain": [
       "(0.0, 1.0)"
      ]
     },
     "execution_count": 18,
     "metadata": {},
     "output_type": "execute_result"
    }
   ],
   "source": [
    "# let's again check minimum and maximum values in these images aftern normalising, normalising will fasten up the process\n",
    "x_train.min(), x_train.max()"
   ]
  },
  {
   "cell_type": "code",
   "execution_count": 19,
   "id": "5be0a778",
   "metadata": {},
   "outputs": [
    {
     "data": {
      "text/plain": [
       "((60000, 28, 28), (10000, 28, 28))"
      ]
     },
     "execution_count": 19,
     "metadata": {},
     "output_type": "execute_result"
    }
   ],
   "source": [
    "x_train.shape, x_test.shape"
   ]
  },
  {
   "cell_type": "code",
   "execution_count": 20,
   "id": "858cdbe6",
   "metadata": {},
   "outputs": [],
   "source": [
    "# we have to reshape the images, in 3d from 2d\n",
    "x_train=x_train.reshape(60000, 28, 28,1)\n",
    "x_test=x_test.reshape(10000, 28, 28,1) \n",
    "# in parentheses we have specified the new shape, as we wish top convert it from 2d to 3d."
   ]
  },
  {
   "cell_type": "code",
   "execution_count": 21,
   "id": "3175eca6",
   "metadata": {},
   "outputs": [
    {
     "data": {
      "text/plain": [
       "((60000, 28, 28, 1), (10000, 28, 28, 1))"
      ]
     },
     "execution_count": 21,
     "metadata": {},
     "output_type": "execute_result"
    }
   ],
   "source": [
    "x_train.shape, x_test.shape"
   ]
  },
  {
   "cell_type": "code",
   "execution_count": 22,
   "id": "7c56e9c6",
   "metadata": {},
   "outputs": [],
   "source": [
    "input_shape=x_train[0].shape"
   ]
  },
  {
   "cell_type": "code",
   "execution_count": 23,
   "id": "3234fea7",
   "metadata": {},
   "outputs": [
    {
     "name": "stdout",
     "output_type": "stream",
     "text": [
      "(28, 28, 1)\n"
     ]
    }
   ],
   "source": [
    "print(input_shape)"
   ]
  },
  {
   "cell_type": "markdown",
   "id": "26bc96f9",
   "metadata": {},
   "source": [
    "This would be the input_shape we would be entering in the first layer of CNN"
   ]
  },
  {
   "cell_type": "markdown",
   "id": "61138cdd",
   "metadata": {},
   "source": [
    "# Building the model"
   ]
  },
  {
   "cell_type": "code",
   "execution_count": 32,
   "id": "a7d23e76",
   "metadata": {},
   "outputs": [],
   "source": [
    "# defining the object\n",
    "# and initializing our CNN\n",
    "model=tf.keras.models.Sequential()"
   ]
  },
  {
   "cell_type": "code",
   "execution_count": 33,
   "id": "93917e08",
   "metadata": {},
   "outputs": [],
   "source": [
    "# ADDING THE first CNN layer\n",
    "model.add(tf.keras.layers.Conv2D(filters=32, kernel_size=(3,3), activation='relu', input_shape=(28,28,1)))\n",
    "\n",
    "# adding the second CNN Layer\n",
    "model.add(tf.keras.layers.Conv2D(filters=64, kernel_size=(3,3), activation='relu'))\n",
    "\n",
    "# adding maxpool layer, pooling layer extracts the dominat features and reduces the size of convolved features\n",
    "model.add(tf.keras.layers.MaxPool2D(pool_size=(2,2)))\n",
    "\n",
    "# adding dropout layer, its a regularisation term and would counter overfitting \n",
    "model.add(tf.keras.layers.Dropout(0.4))\n",
    "\n",
    "# adding the flatten layer\n",
    "model.add(tf.keras.layers.Flatten())\n",
    "\n",
    "#adding the dense layer (fully connected layer)\n",
    "model.add(tf.keras.layers.Dense(units=128, activation='relu'))\n",
    "\n",
    "#adding the output layer\n",
    "model.add(tf.keras.layers.Dense(units=10, activation='softmax'))  #units=10, as the outtput should be from 0-9"
   ]
  },
  {
   "cell_type": "code",
   "execution_count": 34,
   "id": "96744d75",
   "metadata": {},
   "outputs": [
    {
     "name": "stdout",
     "output_type": "stream",
     "text": [
      "Model: \"sequential_1\"\n",
      "_________________________________________________________________\n",
      " Layer (type)                Output Shape              Param #   \n",
      "=================================================================\n",
      " conv2d_9 (Conv2D)           (None, 26, 26, 32)        320       \n",
      "                                                                 \n",
      " conv2d_10 (Conv2D)          (None, 24, 24, 64)        18496     \n",
      "                                                                 \n",
      " max_pooling2d_2 (MaxPoolin  (None, 12, 12, 64)        0         \n",
      " g2D)                                                            \n",
      "                                                                 \n",
      " dropout_1 (Dropout)         (None, 12, 12, 64)        0         \n",
      "                                                                 \n",
      " flatten_1 (Flatten)         (None, 9216)              0         \n",
      "                                                                 \n",
      " dense_2 (Dense)             (None, 128)               1179776   \n",
      "                                                                 \n",
      " dense_3 (Dense)             (None, 10)                1290      \n",
      "                                                                 \n",
      "=================================================================\n",
      "Total params: 1199882 (4.58 MB)\n",
      "Trainable params: 1199882 (4.58 MB)\n",
      "Non-trainable params: 0 (0.00 Byte)\n",
      "_________________________________________________________________\n"
     ]
    }
   ],
   "source": [
    "model.summary()"
   ]
  },
  {
   "cell_type": "code",
   "execution_count": 36,
   "id": "16172293",
   "metadata": {},
   "outputs": [
    {
     "name": "stdout",
     "output_type": "stream",
     "text": [
      "WARNING:tensorflow:From C:\\Users\\HP\\anaconda3\\Lib\\site-packages\\keras\\src\\optimizers\\__init__.py:309: The name tf.train.Optimizer is deprecated. Please use tf.compat.v1.train.Optimizer instead.\n",
      "\n"
     ]
    }
   ],
   "source": [
    "model.compile(optimizer='adam', loss='sparse_categorical_crossentropy', metrics=['sparse_categorical_accuracy'])"
   ]
  },
  {
   "cell_type": "markdown",
   "id": "3f3b8776",
   "metadata": {},
   "source": [
    "# Training the model"
   ]
  },
  {
   "cell_type": "code",
   "execution_count": 38,
   "id": "d7a748e5",
   "metadata": {},
   "outputs": [
    {
     "name": "stdout",
     "output_type": "stream",
     "text": [
      "Epoch 1/10\n",
      "WARNING:tensorflow:From C:\\Users\\HP\\anaconda3\\Lib\\site-packages\\keras\\src\\utils\\tf_utils.py:492: The name tf.ragged.RaggedTensorValue is deprecated. Please use tf.compat.v1.ragged.RaggedTensorValue instead.\n",
      "\n",
      "WARNING:tensorflow:From C:\\Users\\HP\\anaconda3\\Lib\\site-packages\\keras\\src\\engine\\base_layer_utils.py:384: The name tf.executing_eagerly_outside_functions is deprecated. Please use tf.compat.v1.executing_eagerly_outside_functions instead.\n",
      "\n",
      "469/469 [==============================] - 95s 195ms/step - loss: 0.1722 - sparse_categorical_accuracy: 0.9481 - val_loss: 0.0522 - val_sparse_categorical_accuracy: 0.9824\n",
      "Epoch 2/10\n",
      "469/469 [==============================] - 92s 197ms/step - loss: 0.0523 - sparse_categorical_accuracy: 0.9842 - val_loss: 0.0329 - val_sparse_categorical_accuracy: 0.9885\n",
      "Epoch 3/10\n",
      "469/469 [==============================] - 93s 198ms/step - loss: 0.0362 - sparse_categorical_accuracy: 0.9886 - val_loss: 0.0322 - val_sparse_categorical_accuracy: 0.9888\n",
      "Epoch 4/10\n",
      "469/469 [==============================] - 119s 253ms/step - loss: 0.0265 - sparse_categorical_accuracy: 0.9914 - val_loss: 0.0291 - val_sparse_categorical_accuracy: 0.9905\n",
      "Epoch 5/10\n",
      "469/469 [==============================] - 96s 206ms/step - loss: 0.0212 - sparse_categorical_accuracy: 0.9929 - val_loss: 0.0295 - val_sparse_categorical_accuracy: 0.9900\n",
      "Epoch 6/10\n",
      "469/469 [==============================] - 112s 239ms/step - loss: 0.0160 - sparse_categorical_accuracy: 0.9946 - val_loss: 0.0307 - val_sparse_categorical_accuracy: 0.9911\n",
      "Epoch 7/10\n",
      "469/469 [==============================] - 112s 238ms/step - loss: 0.0145 - sparse_categorical_accuracy: 0.9952 - val_loss: 0.0265 - val_sparse_categorical_accuracy: 0.9921\n",
      "Epoch 8/10\n",
      "469/469 [==============================] - 89s 190ms/step - loss: 0.0108 - sparse_categorical_accuracy: 0.9962 - val_loss: 0.0325 - val_sparse_categorical_accuracy: 0.9908\n",
      "Epoch 9/10\n",
      "469/469 [==============================] - 90s 191ms/step - loss: 0.0104 - sparse_categorical_accuracy: 0.9966 - val_loss: 0.0292 - val_sparse_categorical_accuracy: 0.9919\n",
      "Epoch 10/10\n",
      "469/469 [==============================] - 91s 195ms/step - loss: 0.0092 - sparse_categorical_accuracy: 0.9966 - val_loss: 0.0304 - val_sparse_categorical_accuracy: 0.9919\n"
     ]
    }
   ],
   "source": [
    "# Training the model\n",
    "history=model.fit(x_train, y_train, batch_size=128, epochs=10, validation_data=(x_test,y_test))"
   ]
  },
  {
   "cell_type": "code",
   "execution_count": 56,
   "id": "49966c27",
   "metadata": {},
   "outputs": [
    {
     "name": "stdout",
     "output_type": "stream",
     "text": [
      "313/313 [==============================] - 4s 14ms/step\n"
     ]
    }
   ],
   "source": [
    "# model predictions\n",
    "y_pred=(model.predict(x_test) > 0.5).astype(\"int32\")"
   ]
  },
  {
   "cell_type": "code",
   "execution_count": 57,
   "id": "125f1a4a",
   "metadata": {},
   "outputs": [
    {
     "data": {
      "text/plain": [
       "(array([1, 0, 0, 0, 0, 0, 0, 0, 0, 0]), 0)"
      ]
     },
     "execution_count": 57,
     "metadata": {},
     "output_type": "execute_result"
    }
   ],
   "source": [
    "#checking for some index\n",
    "y_pred[3], y_test[3]"
   ]
  },
  {
   "cell_type": "markdown",
   "id": "7277f4f6",
   "metadata": {},
   "source": [
    "# Learning Curve"
   ]
  },
  {
   "cell_type": "code",
   "execution_count": 50,
   "id": "1176dc31",
   "metadata": {},
   "outputs": [],
   "source": [
    "def learning_curve (history, epoch):\n",
    "    \n",
    "    #training vs validation accuracy\n",
    "    epoch_range =range(1, epoch+1)\n",
    "    plt.plot(epoch_range, history.history['sparse_categorical_accuracy'])\n",
    "    plt.plot(epoch_range, history.history['val_sparse_categorical_accuracy'])\n",
    "    plt.title('Model Accuracy')\n",
    "    plt.ylabel('sparse_categorical_accuracy')\n",
    "    plt.xlabel('Epoch')\n",
    "    plt.legend(['Train', 'val'], loc='upper left')\n",
    "    plt.show()\n",
    "    \n",
    "    # training vs validation loss\n",
    "    plt.plot(epoch_range, history.history['loss'])\n",
    "    plt.plot(epoch_range, history.history['val_loss'])\n",
    "    plt.title('Model Loss')\n",
    "    plt.ylabel('Loss')\n",
    "    plt.xlabel('Epoch')\n",
    "    plt.legend(['Train', 'val'], loc='upper left')\n",
    "    plt.show()\n"
   ]
  },
  {
   "cell_type": "code",
   "execution_count": 62,
   "id": "bef78566",
   "metadata": {},
   "outputs": [
    {
     "data": {
      "image/png": "[encoded data removed]",
      "text/plain": [
       "<Figure size 640x480 with 1 Axes>"
      ]
     },
     "metadata": {},
     "output_type": "display_data"
    },
    {
     "data": {
      "image/png": "[encoded data removed]",
      "text/plain": [
       "<Figure size 640x480 with 1 Axes>"
      ]
     },
     "metadata": {},
     "output_type": "display_data"
    }
   ],
   "source": [
    "learning_curve(history,10)"
   ]
  }
 ],
 "metadata": {
  "kernelspec": {
   "display_name": "Python 3 (ipykernel)",
   "language": "python",
   "name": "python3"
  },
  "language_info": {
   "codemirror_mode": {
    "name": "ipython",
    "version": 3
   },
   "file_extension": ".py",
   "mimetype": "text/x-python",
   "name": "python",
   "nbconvert_exporter": "python",
   "pygments_lexer": "ipython3",
   "version": "3.11.4"
  }
 },
 "nbformat": 4,
 "nbformat_minor": 5
}
