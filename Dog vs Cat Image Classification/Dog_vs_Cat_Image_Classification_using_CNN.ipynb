{
  "nbformat": 4,
  "nbformat_minor": 0,
  "metadata": {
    "colab": {
      "provenance": [],
      "gpuType": "T4"
    },
    "kernelspec": {
      "name": "python3",
      "display_name": "Python 3"
    },
    "language_info": {
      "name": "python"
    },
    "accelerator": "GPU"
  },
  "cells": [
    {
      "cell_type": "code",
      "source": [
        "!mkdir -p ~/.kaggle\n",
        "!cp kaggle.json ~/.kaggle/"
      ],
      "metadata": {
        "id": "FPMCVW1NE4A_"
      },
      "execution_count": 7,
      "outputs": []
    },
    {
      "cell_type": "code",
      "execution_count": 8,
      "metadata": {
        "colab": {
          "base_uri": "https://localhost:8080/"
        },
        "id": "S6Rn9_pDEDnn",
        "outputId": "ee67773a-9409-44c5-81cf-c3631a739fa0"
      },
      "outputs": [
        {
          "output_type": "stream",
          "name": "stdout",
          "text": [
            "Warning: Your Kaggle API key is readable by other users on this system! To fix this, you can run 'chmod 600 /root/.kaggle/kaggle.json'\n",
            "Downloading dogs-vs-cats.zip to /content\n",
            "100% 1.06G/1.06G [00:11<00:00, 90.2MB/s]\n",
            "100% 1.06G/1.06G [00:11<00:00, 98.6MB/s]\n"
          ]
        }
      ],
      "source": [
        "!kaggle datasets download -d salader/dogs-vs-cats"
      ]
    },
    {
      "cell_type": "code",
      "source": [
        "# unzip\n",
        "import zipfile\n",
        "zip_ref=zipfile.ZipFile('/content/dogs-vs-cats.zip','r')\n",
        "zip_ref.extractall('/content')\n",
        "zip_ref.close()"
      ],
      "metadata": {
        "id": "YN_VcWNXFBy4"
      },
      "execution_count": 9,
      "outputs": []
    },
    {
      "cell_type": "code",
      "source": [
        "#using keras\n",
        "import tensorflow as tf\n",
        "from tensorflow import keras\n",
        "from keras import Sequential\n",
        "from keras.layers import MaxPooling2D, Flatten, Dense, Conv2D, BatchNormalization, Dropout"
      ],
      "metadata": {
        "id": "KohNlOTOFjIN"
      },
      "execution_count": 10,
      "outputs": []
    },
    {
      "cell_type": "code",
      "source": [
        "# concept of generators, whole dataset is divied into batches, helps in managing with large amounts of data\n",
        "# generators, for image data loading\n",
        "# https://keras.io/api/data_loading/image/\n",
        "train_ds = keras.utils.image_dataset_from_directory(\n",
        "    directory='/content/train',\n",
        "    labels='inferred',\n",
        "    label_mode='int',\n",
        "    batch_size=32,\n",
        "    image_size=(256,256),\n",
        "\n",
        ")\n",
        "\n",
        "validation_ds = keras.utils.image_dataset_from_directory(\n",
        "    directory='/content/test',\n",
        "    labels='inferred',\n",
        "    label_mode='int',\n",
        "    batch_size=32,\n",
        "    image_size=(256,256),\n",
        "\n",
        ")"
      ],
      "metadata": {
        "colab": {
          "base_uri": "https://localhost:8080/"
        },
        "id": "q2pwJWonFb0Y",
        "outputId": "dfa7bdf6-d9f1-4846-c025-e8a09bf73f1c"
      },
      "execution_count": 11,
      "outputs": [
        {
          "output_type": "stream",
          "name": "stdout",
          "text": [
            "Found 20000 files belonging to 2 classes.\n",
            "Found 5000 files belonging to 2 classes.\n"
          ]
        }
      ]
    },
    {
      "cell_type": "code",
      "source": [
        "# images are stored in numpy array and the values are from 0-255, we have to normalise it\n",
        "# normalize\n",
        "def process(image,label):\n",
        "    image=tf.cast(image/255.0, tf.float32)\n",
        "    return image, label\n",
        "\n",
        "train_ds=train_ds.map(process)\n",
        "validation_ds= validation_ds.map(process)"
      ],
      "metadata": {
        "id": "ANM_lLyJFumO"
      },
      "execution_count": 12,
      "outputs": []
    },
    {
      "cell_type": "code",
      "source": [
        "# cnn model\n",
        "\n",
        "model = Sequential()\n",
        "model.add(Conv2D(32, kernel_size=(3,3), padding='VALID', activation='relu', input_shape=(256,256,3)))\n",
        "model.add(BatchNormalization())\n",
        "model.add(MaxPooling2D(pool_size=(2,2), strides=2, padding='VALID'))\n",
        "\n",
        "model.add(Conv2D(64, kernel_size=(3,3), padding='VALID', activation='relu'))\n",
        "model.add(BatchNormalization())\n",
        "model.add(MaxPooling2D(pool_size=(2,2), strides=2, padding='VALID'))\n",
        "\n",
        "model.add(Conv2D(128, kernel_size=(3,3), padding='VALID', activation='relu'))\n",
        "model.add(BatchNormalization())\n",
        "model.add(MaxPooling2D(pool_size=(2,2), strides=2, padding='VALID'))\n",
        "\n",
        "model.add(Flatten())\n",
        "\n",
        "model.add(Dense(128, activation='relu'))\n",
        "model.add(Dropout(0.1))\n",
        "model.add(Dense(64, activation='relu'))\n",
        "model.add(Dense(1, activation='sigmoid'))"
      ],
      "metadata": {
        "id": "W6Xhzt3JGfPj"
      },
      "execution_count": 15,
      "outputs": []
    },
    {
      "cell_type": "code",
      "source": [
        "model.summary()"
      ],
      "metadata": {
        "colab": {
          "base_uri": "https://localhost:8080/"
        },
        "id": "8HBBCkMHGfR_",
        "outputId": "ab10c9e0-58ed-4b0f-976e-0ddfb4321e69"
      },
      "execution_count": 16,
      "outputs": [
        {
          "output_type": "stream",
          "name": "stdout",
          "text": [
            "Model: \"sequential_2\"\n",
            "_________________________________________________________________\n",
            " Layer (type)                Output Shape              Param #   \n",
            "=================================================================\n",
            " conv2d_4 (Conv2D)           (None, 254, 254, 32)      896       \n",
            "                                                                 \n",
            " batch_normalization_3 (Bat  (None, 254, 254, 32)      128       \n",
            " chNormalization)                                                \n",
            "                                                                 \n",
            " max_pooling2d_3 (MaxPoolin  (None, 127, 127, 32)      0         \n",
            " g2D)                                                            \n",
            "                                                                 \n",
            " conv2d_5 (Conv2D)           (None, 125, 125, 64)      18496     \n",
            "                                                                 \n",
            " batch_normalization_4 (Bat  (None, 125, 125, 64)      256       \n",
            " chNormalization)                                                \n",
            "                                                                 \n",
            " max_pooling2d_4 (MaxPoolin  (None, 62, 62, 64)        0         \n",
            " g2D)                                                            \n",
            "                                                                 \n",
            " conv2d_6 (Conv2D)           (None, 60, 60, 128)       73856     \n",
            "                                                                 \n",
            " batch_normalization_5 (Bat  (None, 60, 60, 128)       512       \n",
            " chNormalization)                                                \n",
            "                                                                 \n",
            " max_pooling2d_5 (MaxPoolin  (None, 30, 30, 128)       0         \n",
            " g2D)                                                            \n",
            "                                                                 \n",
            " flatten_1 (Flatten)         (None, 115200)            0         \n",
            "                                                                 \n",
            " dense_1 (Dense)             (None, 128)               14745728  \n",
            "                                                                 \n",
            " dropout (Dropout)           (None, 128)               0         \n",
            "                                                                 \n",
            " dense_2 (Dense)             (None, 64)                8256      \n",
            "                                                                 \n",
            " dense_3 (Dense)             (None, 1)                 65        \n",
            "                                                                 \n",
            "=================================================================\n",
            "Total params: 14848193 (56.64 MB)\n",
            "Trainable params: 14847745 (56.64 MB)\n",
            "Non-trainable params: 448 (1.75 KB)\n",
            "_________________________________________________________________\n"
          ]
        }
      ]
    },
    {
      "cell_type": "code",
      "source": [
        "# compile and execute\n",
        "model.compile(optimizer='adam', loss='binary_crossentropy', metrics=['accuracy'])"
      ],
      "metadata": {
        "id": "Hu8aZhv1GfVU"
      },
      "execution_count": 17,
      "outputs": []
    },
    {
      "cell_type": "code",
      "source": [
        "history=model.fit(train_ds, epochs=10, validation_data=validation_ds)"
      ],
      "metadata": {
        "colab": {
          "base_uri": "https://localhost:8080/"
        },
        "id": "EpYQbFEUQjT6",
        "outputId": "03eccdfa-3e23-4d5a-bff4-de987c143fb9"
      },
      "execution_count": 18,
      "outputs": [
        {
          "output_type": "stream",
          "name": "stdout",
          "text": [
            "Epoch 1/10\n",
            "625/625 [==============================] - 85s 112ms/step - loss: 1.0898 - accuracy: 0.6101 - val_loss: 0.7417 - val_accuracy: 0.5928\n",
            "Epoch 2/10\n",
            "625/625 [==============================] - 70s 112ms/step - loss: 0.5903 - accuracy: 0.6989 - val_loss: 0.7301 - val_accuracy: 0.6698\n",
            "Epoch 3/10\n",
            "625/625 [==============================] - 68s 109ms/step - loss: 0.5007 - accuracy: 0.7620 - val_loss: 0.5071 - val_accuracy: 0.7558\n",
            "Epoch 4/10\n",
            "625/625 [==============================] - 68s 108ms/step - loss: 0.4458 - accuracy: 0.7867 - val_loss: 0.4909 - val_accuracy: 0.7748\n",
            "Epoch 5/10\n",
            "625/625 [==============================] - 69s 110ms/step - loss: 0.3793 - accuracy: 0.8246 - val_loss: 0.4581 - val_accuracy: 0.7904\n",
            "Epoch 6/10\n",
            "625/625 [==============================] - 66s 105ms/step - loss: 0.3272 - accuracy: 0.8561 - val_loss: 0.4802 - val_accuracy: 0.7930\n",
            "Epoch 7/10\n",
            "625/625 [==============================] - 69s 110ms/step - loss: 0.2670 - accuracy: 0.8832 - val_loss: 0.6221 - val_accuracy: 0.7788\n",
            "Epoch 8/10\n",
            "625/625 [==============================] - 73s 116ms/step - loss: 0.1996 - accuracy: 0.9147 - val_loss: 0.5381 - val_accuracy: 0.7948\n",
            "Epoch 9/10\n",
            "625/625 [==============================] - 69s 111ms/step - loss: 0.1584 - accuracy: 0.9326 - val_loss: 0.8584 - val_accuracy: 0.7848\n",
            "Epoch 10/10\n",
            "625/625 [==============================] - 68s 109ms/step - loss: 0.1187 - accuracy: 0.9488 - val_loss: 0.6835 - val_accuracy: 0.7894\n"
          ]
        }
      ]
    },
    {
      "cell_type": "code",
      "source": [
        "import matplotlib.pyplot as plt\n",
        "plt.plot(history.history['accuracy'], color='red', label='train')\n",
        "plt.plot(history.history['val_accuracy'],color='blue', label='validation')\n",
        "plt.legend()\n",
        "plt.show()"
      ],
      "metadata": {
        "colab": {
          "base_uri": "https://localhost:8080/",
          "height": 430
        },
        "id": "xhFhfDTIQr0a",
        "outputId": "d1bfb684-8bc4-482a-a75c-ccb41e6385a8"
      },
      "execution_count": 19,
      "outputs": [
        {
          "output_type": "display_data",
          "data": {
            "text/plain": [
              "<Figure size 640x480 with 1 Axes>"
            ],
            "image/png": "[encoded data removed]"
          },
          "metadata": {}
        }
      ]
    },
    {
      "cell_type": "code",
      "source": [
        "plt.plot(history.history['loss'], color='red', label='train')\n",
        "plt.plot(history.history['val_loss'],color='blue', label='validation')\n",
        "plt.legend()\n",
        "plt.show()"
      ],
      "metadata": {
        "colab": {
          "base_uri": "https://localhost:8080/",
          "height": 430
        },
        "id": "GQyNFqWqTOOT",
        "outputId": "0857a883-0bd6-496f-fe39-472b2acbba09"
      },
      "execution_count": 20,
      "outputs": [
        {
          "output_type": "display_data",
          "data": {
            "text/plain": [
              "<Figure size 640x480 with 1 Axes>"
            ],
            "image/png": "[encoded data removed]"
          },
          "metadata": {}
        }
      ]
    }
  ]
}